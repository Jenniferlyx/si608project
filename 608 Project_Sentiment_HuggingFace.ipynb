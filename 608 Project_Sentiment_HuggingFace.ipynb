{
 "cells": [
  {
   "cell_type": "code",
   "execution_count": 1,
   "id": "9cd4b3a3",
   "metadata": {},
   "outputs": [],
   "source": [
    "import pandas as pd"
   ]
  },
  {
   "cell_type": "code",
   "execution_count": 18,
   "id": "f11fda3c",
   "metadata": {
    "scrolled": false
   },
   "outputs": [
    {
     "data": {
      "text/plain": [
       "92354"
      ]
     },
     "execution_count": 18,
     "metadata": {},
     "output_type": "execute_result"
    }
   ],
   "source": [
    "review = pd.read_csv('review-sentiment.csv')\n",
    "len(review)"
   ]
  },
  {
   "cell_type": "code",
   "execution_count": 19,
   "id": "31909cda",
   "metadata": {},
   "outputs": [
    {
     "data": {
      "text/plain": [
       "92325"
      ]
     },
     "execution_count": 19,
     "metadata": {},
     "output_type": "execute_result"
    }
   ],
   "source": [
    "review.dropna(inplace=True)\n",
    "len(review)"
   ]
  },
  {
   "cell_type": "code",
   "execution_count": 20,
   "id": "de81b1aa",
   "metadata": {
    "scrolled": true
   },
   "outputs": [],
   "source": [
    "import torch.nn.functional as F \n",
    "from transformers import AutoTokenizer, AutoModelForSequenceClassification\n",
    "tokenizer = AutoTokenizer.from_pretrained(\"distilbert-base-uncased-finetuned-sst-2-english\")\n",
    "model = AutoModelForSequenceClassification.from_pretrained(\"distilbert-base-uncased-finetuned-sst-2-english\")"
   ]
  },
  {
   "cell_type": "code",
   "execution_count": 21,
   "id": "2442fcc9",
   "metadata": {},
   "outputs": [],
   "source": [
    "data = list(review.cleanedText)"
   ]
  },
  {
   "cell_type": "code",
   "execution_count": 22,
   "id": "ebca5759",
   "metadata": {},
   "outputs": [
    {
     "name": "stderr",
     "output_type": "stream",
     "text": [
      "100%|██████████| 92325/92325 [32:18<00:00, 47.62it/s]  \n"
     ]
    }
   ],
   "source": [
    "# for each in review.lemmatization:\n",
    "from tqdm import tqdm\n",
    "res = []\n",
    "for each in tqdm(data):\n",
    "    tokenized_segments = tokenizer(each, return_tensors=\"pt\", padding=True, truncation=True, max_length = 512)\n",
    "    tokenized_segments_input_ids, tokenized_segments_attention_mask = tokenized_segments.input_ids, tokenized_segments.attention_mask\n",
    "    model_predictions = F.softmax(model(input_ids=tokenized_segments_input_ids, attention_mask=tokenized_segments_attention_mask)['logits'], dim=1)\n",
    "    res += model_predictions.tolist()"
   ]
  },
  {
   "cell_type": "code",
   "execution_count": 25,
   "id": "47382b11",
   "metadata": {},
   "outputs": [
    {
     "data": {
      "text/plain": [
       "array([[0.99207002, 0.00792995],\n",
       "       [0.99525428, 0.00474573],\n",
       "       [0.75462365, 0.2453763 ],\n",
       "       ...,\n",
       "       [0.9965564 , 0.0034436 ],\n",
       "       [0.99223912, 0.00776081],\n",
       "       [0.99709976, 0.00290033]])"
      ]
     },
     "execution_count": 25,
     "metadata": {},
     "output_type": "execute_result"
    }
   ],
   "source": [
    "import numpy as np\n",
    "np.array(res)"
   ]
  },
  {
   "cell_type": "code",
   "execution_count": 26,
   "id": "fa63d178",
   "metadata": {},
   "outputs": [
    {
     "data": {
      "text/plain": [
       "92325"
      ]
     },
     "execution_count": 26,
     "metadata": {},
     "output_type": "execute_result"
    }
   ],
   "source": [
    "len(res)"
   ]
  },
  {
   "cell_type": "code",
   "execution_count": 27,
   "id": "07b38f21",
   "metadata": {},
   "outputs": [
    {
     "data": {
      "text/plain": [
       "92325"
      ]
     },
     "execution_count": 27,
     "metadata": {},
     "output_type": "execute_result"
    }
   ],
   "source": [
    "len(review)"
   ]
  },
  {
   "cell_type": "code",
   "execution_count": 32,
   "id": "d7416c8a",
   "metadata": {},
   "outputs": [],
   "source": [
    "review['distilbert_positive'] = np.array(res)[:, 0]"
   ]
  },
  {
   "cell_type": "code",
   "execution_count": 34,
   "id": "6f053994",
   "metadata": {},
   "outputs": [],
   "source": [
    "review['distilbert_negative'] = np.array(res)[:, 1]"
   ]
  },
  {
   "cell_type": "code",
   "execution_count": 36,
   "id": "54b9fe6b",
   "metadata": {
    "scrolled": true
   },
   "outputs": [
    {
     "data": {
      "text/html": [
       "<div>\n",
       "<style scoped>\n",
       "    .dataframe tbody tr th:only-of-type {\n",
       "        vertical-align: middle;\n",
       "    }\n",
       "\n",
       "    .dataframe tbody tr th {\n",
       "        vertical-align: top;\n",
       "    }\n",
       "\n",
       "    .dataframe thead th {\n",
       "        text-align: right;\n",
       "    }\n",
       "</style>\n",
       "<table border=\"1\" class=\"dataframe\">\n",
       "  <thead>\n",
       "    <tr style=\"text-align: right;\">\n",
       "      <th></th>\n",
       "      <th>reviewerID</th>\n",
       "      <th>asin</th>\n",
       "      <th>reviewerName</th>\n",
       "      <th>helpful</th>\n",
       "      <th>reviewText</th>\n",
       "      <th>overall</th>\n",
       "      <th>summary</th>\n",
       "      <th>unixReviewTime</th>\n",
       "      <th>reviewTime</th>\n",
       "      <th>cleanedText</th>\n",
       "      <th>nltk</th>\n",
       "      <th>distilbert_positive</th>\n",
       "      <th>distilbert_negative</th>\n",
       "    </tr>\n",
       "  </thead>\n",
       "  <tbody>\n",
       "    <tr>\n",
       "      <th>0</th>\n",
       "      <td>A361M14PU2GUEG</td>\n",
       "      <td>0700099867</td>\n",
       "      <td>Angry Ryan \"Ryan A. Forrest\"</td>\n",
       "      <td>[2, 2]</td>\n",
       "      <td>i had dirt 2 on xbox 360 and it was an okay ga...</td>\n",
       "      <td>4</td>\n",
       "      <td>DIRT 3</td>\n",
       "      <td>1308009600</td>\n",
       "      <td>2011-06-14</td>\n",
       "      <td>dirt xbox 360 okay game started playing games ...</td>\n",
       "      <td>0.9136</td>\n",
       "      <td>0.992070</td>\n",
       "      <td>0.007930</td>\n",
       "    </tr>\n",
       "    <tr>\n",
       "      <th>1</th>\n",
       "      <td>A1QJJU33VNC4S7</td>\n",
       "      <td>0700099867</td>\n",
       "      <td>D@rkFX</td>\n",
       "      <td>[0, 1]</td>\n",
       "      <td>i initially gave this one star because it was ...</td>\n",
       "      <td>4</td>\n",
       "      <td>A great game ruined by Microsoft's account man...</td>\n",
       "      <td>1352851200</td>\n",
       "      <td>2012-11-14</td>\n",
       "      <td>initially gave one star crashing constantly re...</td>\n",
       "      <td>0.4019</td>\n",
       "      <td>0.995254</td>\n",
       "      <td>0.004746</td>\n",
       "    </tr>\n",
       "    <tr>\n",
       "      <th>2</th>\n",
       "      <td>ANW6EGY12V5XS</td>\n",
       "      <td>0700099867</td>\n",
       "      <td>Henri Savin</td>\n",
       "      <td>[0, 0]</td>\n",
       "      <td>i have been playing car racing games since the...</td>\n",
       "      <td>5</td>\n",
       "      <td>A 5 stars winner!</td>\n",
       "      <td>1318982400</td>\n",
       "      <td>2011-10-19</td>\n",
       "      <td>playing car racing games since early beginning...</td>\n",
       "      <td>0.9926</td>\n",
       "      <td>0.754624</td>\n",
       "      <td>0.245376</td>\n",
       "    </tr>\n",
       "    <tr>\n",
       "      <th>3</th>\n",
       "      <td>AHT34BRYFBFT1</td>\n",
       "      <td>0700099867</td>\n",
       "      <td>hewimp</td>\n",
       "      <td>[0, 1]</td>\n",
       "      <td>dirt 3 on dvdi collect racing games so had to ...</td>\n",
       "      <td>5</td>\n",
       "      <td>Cars</td>\n",
       "      <td>1388275200</td>\n",
       "      <td>2013-12-29</td>\n",
       "      <td>dirt dvdi collect racing games add collections...</td>\n",
       "      <td>-0.3400</td>\n",
       "      <td>0.988628</td>\n",
       "      <td>0.011372</td>\n",
       "    </tr>\n",
       "    <tr>\n",
       "      <th>4</th>\n",
       "      <td>A248LSBZT4P38V</td>\n",
       "      <td>0700099867</td>\n",
       "      <td>Joseph R. Kennedy</td>\n",
       "      <td>[0, 0]</td>\n",
       "      <td>i bought this and the key didn't work.  it was...</td>\n",
       "      <td>1</td>\n",
       "      <td>It might have been a good game, but I never fo...</td>\n",
       "      <td>1404086400</td>\n",
       "      <td>2014-06-30</td>\n",
       "      <td>bought key work gift recipient able solve prob...</td>\n",
       "      <td>0.7651</td>\n",
       "      <td>0.932582</td>\n",
       "      <td>0.067418</td>\n",
       "    </tr>\n",
       "  </tbody>\n",
       "</table>\n",
       "</div>"
      ],
      "text/plain": [
       "       reviewerID        asin                  reviewerName helpful  \\\n",
       "0  A361M14PU2GUEG  0700099867  Angry Ryan \"Ryan A. Forrest\"  [2, 2]   \n",
       "1  A1QJJU33VNC4S7  0700099867                        D@rkFX  [0, 1]   \n",
       "2   ANW6EGY12V5XS  0700099867                   Henri Savin  [0, 0]   \n",
       "3   AHT34BRYFBFT1  0700099867                        hewimp  [0, 1]   \n",
       "4  A248LSBZT4P38V  0700099867             Joseph R. Kennedy  [0, 0]   \n",
       "\n",
       "                                          reviewText  overall  \\\n",
       "0  i had dirt 2 on xbox 360 and it was an okay ga...        4   \n",
       "1  i initially gave this one star because it was ...        4   \n",
       "2  i have been playing car racing games since the...        5   \n",
       "3  dirt 3 on dvdi collect racing games so had to ...        5   \n",
       "4  i bought this and the key didn't work.  it was...        1   \n",
       "\n",
       "                                             summary  unixReviewTime  \\\n",
       "0                                             DIRT 3      1308009600   \n",
       "1  A great game ruined by Microsoft's account man...      1352851200   \n",
       "2                                  A 5 stars winner!      1318982400   \n",
       "3                                               Cars      1388275200   \n",
       "4  It might have been a good game, but I never fo...      1404086400   \n",
       "\n",
       "   reviewTime                                        cleanedText    nltk  \\\n",
       "0  2011-06-14  dirt xbox 360 okay game started playing games ...  0.9136   \n",
       "1  2012-11-14  initially gave one star crashing constantly re...  0.4019   \n",
       "2  2011-10-19  playing car racing games since early beginning...  0.9926   \n",
       "3  2013-12-29  dirt dvdi collect racing games add collections... -0.3400   \n",
       "4  2014-06-30  bought key work gift recipient able solve prob...  0.7651   \n",
       "\n",
       "   distilbert_positive  distilbert_negative  \n",
       "0             0.992070             0.007930  \n",
       "1             0.995254             0.004746  \n",
       "2             0.754624             0.245376  \n",
       "3             0.988628             0.011372  \n",
       "4             0.932582             0.067418  "
      ]
     },
     "execution_count": 36,
     "metadata": {},
     "output_type": "execute_result"
    }
   ],
   "source": [
    "review.head()"
   ]
  },
  {
   "cell_type": "code",
   "execution_count": 38,
   "id": "9de3e545",
   "metadata": {},
   "outputs": [],
   "source": [
    "review.to_csv('review_total', index=False)"
   ]
  },
  {
   "cell_type": "markdown",
   "id": "3e517cdf",
   "metadata": {},
   "source": [
    "## Split Dataset"
   ]
  },
  {
   "cell_type": "code",
   "execution_count": 42,
   "id": "5a37ba13",
   "metadata": {},
   "outputs": [
    {
     "data": {
      "text/plain": [
       "4939"
      ]
     },
     "execution_count": 42,
     "metadata": {},
     "output_type": "execute_result"
    }
   ],
   "source": [
    "review.reviewerID.nunique()"
   ]
  },
  {
   "cell_type": "code",
   "execution_count": 43,
   "id": "c88e02a8",
   "metadata": {},
   "outputs": [
    {
     "data": {
      "text/html": [
       "<div>\n",
       "<style scoped>\n",
       "    .dataframe tbody tr th:only-of-type {\n",
       "        vertical-align: middle;\n",
       "    }\n",
       "\n",
       "    .dataframe tbody tr th {\n",
       "        vertical-align: top;\n",
       "    }\n",
       "\n",
       "    .dataframe thead th {\n",
       "        text-align: right;\n",
       "    }\n",
       "</style>\n",
       "<table border=\"1\" class=\"dataframe\">\n",
       "  <thead>\n",
       "    <tr style=\"text-align: right;\">\n",
       "      <th></th>\n",
       "      <th>index</th>\n",
       "      <th>reviewerID</th>\n",
       "      <th>asin</th>\n",
       "      <th>reviewerName</th>\n",
       "      <th>helpful</th>\n",
       "      <th>reviewText</th>\n",
       "      <th>overall</th>\n",
       "      <th>summary</th>\n",
       "      <th>unixReviewTime</th>\n",
       "      <th>reviewTime</th>\n",
       "      <th>cleanedText</th>\n",
       "      <th>nltk</th>\n",
       "      <th>distilbert_positive</th>\n",
       "      <th>distilbert_negative</th>\n",
       "    </tr>\n",
       "  </thead>\n",
       "  <tbody>\n",
       "    <tr>\n",
       "      <th>0</th>\n",
       "      <td>0</td>\n",
       "      <td>A361M14PU2GUEG</td>\n",
       "      <td>0700099867</td>\n",
       "      <td>Angry Ryan \"Ryan A. Forrest\"</td>\n",
       "      <td>[2, 2]</td>\n",
       "      <td>i had dirt 2 on xbox 360 and it was an okay ga...</td>\n",
       "      <td>4</td>\n",
       "      <td>DIRT 3</td>\n",
       "      <td>1308009600</td>\n",
       "      <td>2011-06-14</td>\n",
       "      <td>dirt xbox 360 okay game started playing games ...</td>\n",
       "      <td>0.9136</td>\n",
       "      <td>0.992070</td>\n",
       "      <td>0.007930</td>\n",
       "    </tr>\n",
       "    <tr>\n",
       "      <th>1</th>\n",
       "      <td>1</td>\n",
       "      <td>A1QJJU33VNC4S7</td>\n",
       "      <td>0700099867</td>\n",
       "      <td>D@rkFX</td>\n",
       "      <td>[0, 1]</td>\n",
       "      <td>i initially gave this one star because it was ...</td>\n",
       "      <td>4</td>\n",
       "      <td>A great game ruined by Microsoft's account man...</td>\n",
       "      <td>1352851200</td>\n",
       "      <td>2012-11-14</td>\n",
       "      <td>initially gave one star crashing constantly re...</td>\n",
       "      <td>0.4019</td>\n",
       "      <td>0.995254</td>\n",
       "      <td>0.004746</td>\n",
       "    </tr>\n",
       "    <tr>\n",
       "      <th>2</th>\n",
       "      <td>2</td>\n",
       "      <td>ANW6EGY12V5XS</td>\n",
       "      <td>0700099867</td>\n",
       "      <td>Henri Savin</td>\n",
       "      <td>[0, 0]</td>\n",
       "      <td>i have been playing car racing games since the...</td>\n",
       "      <td>5</td>\n",
       "      <td>A 5 stars winner!</td>\n",
       "      <td>1318982400</td>\n",
       "      <td>2011-10-19</td>\n",
       "      <td>playing car racing games since early beginning...</td>\n",
       "      <td>0.9926</td>\n",
       "      <td>0.754624</td>\n",
       "      <td>0.245376</td>\n",
       "    </tr>\n",
       "    <tr>\n",
       "      <th>3</th>\n",
       "      <td>3</td>\n",
       "      <td>AHT34BRYFBFT1</td>\n",
       "      <td>0700099867</td>\n",
       "      <td>hewimp</td>\n",
       "      <td>[0, 1]</td>\n",
       "      <td>dirt 3 on dvdi collect racing games so had to ...</td>\n",
       "      <td>5</td>\n",
       "      <td>Cars</td>\n",
       "      <td>1388275200</td>\n",
       "      <td>2013-12-29</td>\n",
       "      <td>dirt dvdi collect racing games add collections...</td>\n",
       "      <td>-0.3400</td>\n",
       "      <td>0.988628</td>\n",
       "      <td>0.011372</td>\n",
       "    </tr>\n",
       "    <tr>\n",
       "      <th>4</th>\n",
       "      <td>4</td>\n",
       "      <td>A248LSBZT4P38V</td>\n",
       "      <td>0700099867</td>\n",
       "      <td>Joseph R. Kennedy</td>\n",
       "      <td>[0, 0]</td>\n",
       "      <td>i bought this and the key didn't work.  it was...</td>\n",
       "      <td>1</td>\n",
       "      <td>It might have been a good game, but I never fo...</td>\n",
       "      <td>1404086400</td>\n",
       "      <td>2014-06-30</td>\n",
       "      <td>bought key work gift recipient able solve prob...</td>\n",
       "      <td>0.7651</td>\n",
       "      <td>0.932582</td>\n",
       "      <td>0.067418</td>\n",
       "    </tr>\n",
       "  </tbody>\n",
       "</table>\n",
       "</div>"
      ],
      "text/plain": [
       "   index      reviewerID        asin                  reviewerName helpful  \\\n",
       "0      0  A361M14PU2GUEG  0700099867  Angry Ryan \"Ryan A. Forrest\"  [2, 2]   \n",
       "1      1  A1QJJU33VNC4S7  0700099867                        D@rkFX  [0, 1]   \n",
       "2      2   ANW6EGY12V5XS  0700099867                   Henri Savin  [0, 0]   \n",
       "3      3   AHT34BRYFBFT1  0700099867                        hewimp  [0, 1]   \n",
       "4      4  A248LSBZT4P38V  0700099867             Joseph R. Kennedy  [0, 0]   \n",
       "\n",
       "                                          reviewText  overall  \\\n",
       "0  i had dirt 2 on xbox 360 and it was an okay ga...        4   \n",
       "1  i initially gave this one star because it was ...        4   \n",
       "2  i have been playing car racing games since the...        5   \n",
       "3  dirt 3 on dvdi collect racing games so had to ...        5   \n",
       "4  i bought this and the key didn't work.  it was...        1   \n",
       "\n",
       "                                             summary  unixReviewTime  \\\n",
       "0                                             DIRT 3      1308009600   \n",
       "1  A great game ruined by Microsoft's account man...      1352851200   \n",
       "2                                  A 5 stars winner!      1318982400   \n",
       "3                                               Cars      1388275200   \n",
       "4  It might have been a good game, but I never fo...      1404086400   \n",
       "\n",
       "   reviewTime                                        cleanedText    nltk  \\\n",
       "0  2011-06-14  dirt xbox 360 okay game started playing games ...  0.9136   \n",
       "1  2012-11-14  initially gave one star crashing constantly re...  0.4019   \n",
       "2  2011-10-19  playing car racing games since early beginning...  0.9926   \n",
       "3  2013-12-29  dirt dvdi collect racing games add collections... -0.3400   \n",
       "4  2014-06-30  bought key work gift recipient able solve prob...  0.7651   \n",
       "\n",
       "   distilbert_positive  distilbert_negative  \n",
       "0             0.992070             0.007930  \n",
       "1             0.995254             0.004746  \n",
       "2             0.754624             0.245376  \n",
       "3             0.988628             0.011372  \n",
       "4             0.932582             0.067418  "
      ]
     },
     "execution_count": 43,
     "metadata": {},
     "output_type": "execute_result"
    }
   ],
   "source": [
    "total = review.reset_index().drop('index', axis=1).reset_index()\n",
    "total.head()"
   ]
  },
  {
   "cell_type": "code",
   "execution_count": 44,
   "id": "26185bcf",
   "metadata": {},
   "outputs": [
    {
     "data": {
      "text/plain": [
       "19756"
      ]
     },
     "execution_count": 44,
     "metadata": {},
     "output_type": "execute_result"
    }
   ],
   "source": [
    "test = total.groupby('reviewerID').apply(lambda x: x.sample(n = 4)).reset_index(drop = True)\n",
    "len(test)"
   ]
  },
  {
   "cell_type": "code",
   "execution_count": 46,
   "id": "c199d5a8",
   "metadata": {},
   "outputs": [
    {
     "data": {
      "text/plain": [
       "72569"
      ]
     },
     "execution_count": 46,
     "metadata": {},
     "output_type": "execute_result"
    }
   ],
   "source": [
    "train = total[~total['index'].isin(test['index'])]\n",
    "len(train)"
   ]
  },
  {
   "cell_type": "code",
   "execution_count": 50,
   "id": "a2c679d7",
   "metadata": {},
   "outputs": [],
   "source": [
    "test.drop('index', axis=1).to_csv('test.csv', index=False)\n",
    "train.drop('index', axis=1).to_csv('train.csv', index=False)"
   ]
  },
  {
   "cell_type": "code",
   "execution_count": 51,
   "id": "ff4e2410",
   "metadata": {},
   "outputs": [
    {
     "data": {
      "text/html": [
       "<div>\n",
       "<style scoped>\n",
       "    .dataframe tbody tr th:only-of-type {\n",
       "        vertical-align: middle;\n",
       "    }\n",
       "\n",
       "    .dataframe tbody tr th {\n",
       "        vertical-align: top;\n",
       "    }\n",
       "\n",
       "    .dataframe thead th {\n",
       "        text-align: right;\n",
       "    }\n",
       "</style>\n",
       "<table border=\"1\" class=\"dataframe\">\n",
       "  <thead>\n",
       "    <tr style=\"text-align: right;\">\n",
       "      <th></th>\n",
       "      <th>index</th>\n",
       "      <th>reviewerID</th>\n",
       "      <th>asin</th>\n",
       "      <th>reviewerName</th>\n",
       "      <th>helpful</th>\n",
       "      <th>reviewText</th>\n",
       "      <th>overall</th>\n",
       "      <th>summary</th>\n",
       "      <th>unixReviewTime</th>\n",
       "      <th>reviewTime</th>\n",
       "      <th>cleanedText</th>\n",
       "      <th>nltk</th>\n",
       "      <th>distilbert_positive</th>\n",
       "      <th>distilbert_negative</th>\n",
       "    </tr>\n",
       "  </thead>\n",
       "  <tbody>\n",
       "    <tr>\n",
       "      <th>0</th>\n",
       "      <td>0</td>\n",
       "      <td>A361M14PU2GUEG</td>\n",
       "      <td>0700099867</td>\n",
       "      <td>Angry Ryan \"Ryan A. Forrest\"</td>\n",
       "      <td>[2, 2]</td>\n",
       "      <td>i had dirt 2 on xbox 360 and it was an okay ga...</td>\n",
       "      <td>4</td>\n",
       "      <td>DIRT 3</td>\n",
       "      <td>1308009600</td>\n",
       "      <td>2011-06-14</td>\n",
       "      <td>dirt xbox 360 okay game started playing games ...</td>\n",
       "      <td>0.9136</td>\n",
       "      <td>0.992070</td>\n",
       "      <td>0.007930</td>\n",
       "    </tr>\n",
       "    <tr>\n",
       "      <th>1</th>\n",
       "      <td>1</td>\n",
       "      <td>A1QJJU33VNC4S7</td>\n",
       "      <td>0700099867</td>\n",
       "      <td>D@rkFX</td>\n",
       "      <td>[0, 1]</td>\n",
       "      <td>i initially gave this one star because it was ...</td>\n",
       "      <td>4</td>\n",
       "      <td>A great game ruined by Microsoft's account man...</td>\n",
       "      <td>1352851200</td>\n",
       "      <td>2012-11-14</td>\n",
       "      <td>initially gave one star crashing constantly re...</td>\n",
       "      <td>0.4019</td>\n",
       "      <td>0.995254</td>\n",
       "      <td>0.004746</td>\n",
       "    </tr>\n",
       "    <tr>\n",
       "      <th>2</th>\n",
       "      <td>2</td>\n",
       "      <td>ANW6EGY12V5XS</td>\n",
       "      <td>0700099867</td>\n",
       "      <td>Henri Savin</td>\n",
       "      <td>[0, 0]</td>\n",
       "      <td>i have been playing car racing games since the...</td>\n",
       "      <td>5</td>\n",
       "      <td>A 5 stars winner!</td>\n",
       "      <td>1318982400</td>\n",
       "      <td>2011-10-19</td>\n",
       "      <td>playing car racing games since early beginning...</td>\n",
       "      <td>0.9926</td>\n",
       "      <td>0.754624</td>\n",
       "      <td>0.245376</td>\n",
       "    </tr>\n",
       "    <tr>\n",
       "      <th>3</th>\n",
       "      <td>3</td>\n",
       "      <td>AHT34BRYFBFT1</td>\n",
       "      <td>0700099867</td>\n",
       "      <td>hewimp</td>\n",
       "      <td>[0, 1]</td>\n",
       "      <td>dirt 3 on dvdi collect racing games so had to ...</td>\n",
       "      <td>5</td>\n",
       "      <td>Cars</td>\n",
       "      <td>1388275200</td>\n",
       "      <td>2013-12-29</td>\n",
       "      <td>dirt dvdi collect racing games add collections...</td>\n",
       "      <td>-0.3400</td>\n",
       "      <td>0.988628</td>\n",
       "      <td>0.011372</td>\n",
       "    </tr>\n",
       "    <tr>\n",
       "      <th>4</th>\n",
       "      <td>4</td>\n",
       "      <td>A248LSBZT4P38V</td>\n",
       "      <td>0700099867</td>\n",
       "      <td>Joseph R. Kennedy</td>\n",
       "      <td>[0, 0]</td>\n",
       "      <td>i bought this and the key didn't work.  it was...</td>\n",
       "      <td>1</td>\n",
       "      <td>It might have been a good game, but I never fo...</td>\n",
       "      <td>1404086400</td>\n",
       "      <td>2014-06-30</td>\n",
       "      <td>bought key work gift recipient able solve prob...</td>\n",
       "      <td>0.7651</td>\n",
       "      <td>0.932582</td>\n",
       "      <td>0.067418</td>\n",
       "    </tr>\n",
       "    <tr>\n",
       "      <th>...</th>\n",
       "      <td>...</td>\n",
       "      <td>...</td>\n",
       "      <td>...</td>\n",
       "      <td>...</td>\n",
       "      <td>...</td>\n",
       "      <td>...</td>\n",
       "      <td>...</td>\n",
       "      <td>...</td>\n",
       "      <td>...</td>\n",
       "      <td>...</td>\n",
       "      <td>...</td>\n",
       "      <td>...</td>\n",
       "      <td>...</td>\n",
       "      <td>...</td>\n",
       "    </tr>\n",
       "    <tr>\n",
       "      <th>92318</th>\n",
       "      <td>92318</td>\n",
       "      <td>AJQB6I00X8WAI</td>\n",
       "      <td>B00KAI3KW2</td>\n",
       "      <td>SmokeyNYY</td>\n",
       "      <td>[3, 6]</td>\n",
       "      <td>wow this really is an all in one gaming consol...</td>\n",
       "      <td>5</td>\n",
       "      <td>Just got it and really like it so far</td>\n",
       "      <td>1403568000</td>\n",
       "      <td>2014-06-24</td>\n",
       "      <td>wow really one gaming console multimedia devic...</td>\n",
       "      <td>0.9801</td>\n",
       "      <td>0.002039</td>\n",
       "      <td>0.997961</td>\n",
       "    </tr>\n",
       "    <tr>\n",
       "      <th>92320</th>\n",
       "      <td>92320</td>\n",
       "      <td>A2IGEPJJYKMOWK</td>\n",
       "      <td>B00KAI3KW2</td>\n",
       "      <td>UziHorowitz</td>\n",
       "      <td>[2, 4]</td>\n",
       "      <td>xbox one was initially announced and revealed ...</td>\n",
       "      <td>5</td>\n",
       "      <td>An Incredibly Reliable &amp; Advanced Game Console</td>\n",
       "      <td>1405728000</td>\n",
       "      <td>2014-07-19</td>\n",
       "      <td>xbox one initially announced revealed past jun...</td>\n",
       "      <td>0.9920</td>\n",
       "      <td>0.956405</td>\n",
       "      <td>0.043595</td>\n",
       "    </tr>\n",
       "    <tr>\n",
       "      <th>92321</th>\n",
       "      <td>92321</td>\n",
       "      <td>A1M19BGTJ5PI1I</td>\n",
       "      <td>B00KAI3KW2</td>\n",
       "      <td>V. T.</td>\n",
       "      <td>[24, 113]</td>\n",
       "      <td>the titanfall bundle has been as low as $450. ...</td>\n",
       "      <td>2</td>\n",
       "      <td>No kinect, worse value</td>\n",
       "      <td>1402272000</td>\n",
       "      <td>2014-06-09</td>\n",
       "      <td>titanfall bundle low 450 getting game kinect s...</td>\n",
       "      <td>0.9605</td>\n",
       "      <td>0.970660</td>\n",
       "      <td>0.029340</td>\n",
       "    </tr>\n",
       "    <tr>\n",
       "      <th>92322</th>\n",
       "      <td>92322</td>\n",
       "      <td>A1ICREREXO9J81</td>\n",
       "      <td>B00KHECZXO</td>\n",
       "      <td>Frustrated gamer</td>\n",
       "      <td>[0, 1]</td>\n",
       "      <td>funny people on here are rating sellers that a...</td>\n",
       "      <td>5</td>\n",
       "      <td>this is for rating the system not the seller</td>\n",
       "      <td>1405814400</td>\n",
       "      <td>2014-07-20</td>\n",
       "      <td>funny people rating sellers ripping supposedly...</td>\n",
       "      <td>0.8608</td>\n",
       "      <td>0.996556</td>\n",
       "      <td>0.003444</td>\n",
       "    </tr>\n",
       "    <tr>\n",
       "      <th>92324</th>\n",
       "      <td>92324</td>\n",
       "      <td>A2Q9CNJ4T6ZK99</td>\n",
       "      <td>B00KHECZXO</td>\n",
       "      <td>Philip Brown \"Philip &amp; Chana\"</td>\n",
       "      <td>[33, 36]</td>\n",
       "      <td>can get this at newegg for $329.00 and the pac...</td>\n",
       "      <td>1</td>\n",
       "      <td>Looks Like We Have Gougers Again.</td>\n",
       "      <td>1401667200</td>\n",
       "      <td>2014-06-02</td>\n",
       "      <td>get newegg 329 packaging alittle mine arrived ...</td>\n",
       "      <td>0.0000</td>\n",
       "      <td>0.997100</td>\n",
       "      <td>0.002900</td>\n",
       "    </tr>\n",
       "  </tbody>\n",
       "</table>\n",
       "<p>72569 rows × 14 columns</p>\n",
       "</div>"
      ],
      "text/plain": [
       "       index      reviewerID        asin                   reviewerName  \\\n",
       "0          0  A361M14PU2GUEG  0700099867   Angry Ryan \"Ryan A. Forrest\"   \n",
       "1          1  A1QJJU33VNC4S7  0700099867                         D@rkFX   \n",
       "2          2   ANW6EGY12V5XS  0700099867                    Henri Savin   \n",
       "3          3   AHT34BRYFBFT1  0700099867                         hewimp   \n",
       "4          4  A248LSBZT4P38V  0700099867              Joseph R. Kennedy   \n",
       "...      ...             ...         ...                            ...   \n",
       "92318  92318   AJQB6I00X8WAI  B00KAI3KW2                      SmokeyNYY   \n",
       "92320  92320  A2IGEPJJYKMOWK  B00KAI3KW2                    UziHorowitz   \n",
       "92321  92321  A1M19BGTJ5PI1I  B00KAI3KW2                          V. T.   \n",
       "92322  92322  A1ICREREXO9J81  B00KHECZXO               Frustrated gamer   \n",
       "92324  92324  A2Q9CNJ4T6ZK99  B00KHECZXO  Philip Brown \"Philip & Chana\"   \n",
       "\n",
       "         helpful                                         reviewText  overall  \\\n",
       "0         [2, 2]  i had dirt 2 on xbox 360 and it was an okay ga...        4   \n",
       "1         [0, 1]  i initially gave this one star because it was ...        4   \n",
       "2         [0, 0]  i have been playing car racing games since the...        5   \n",
       "3         [0, 1]  dirt 3 on dvdi collect racing games so had to ...        5   \n",
       "4         [0, 0]  i bought this and the key didn't work.  it was...        1   \n",
       "...          ...                                                ...      ...   \n",
       "92318     [3, 6]  wow this really is an all in one gaming consol...        5   \n",
       "92320     [2, 4]  xbox one was initially announced and revealed ...        5   \n",
       "92321  [24, 113]  the titanfall bundle has been as low as $450. ...        2   \n",
       "92322     [0, 1]  funny people on here are rating sellers that a...        5   \n",
       "92324   [33, 36]  can get this at newegg for $329.00 and the pac...        1   \n",
       "\n",
       "                                                 summary  unixReviewTime  \\\n",
       "0                                                 DIRT 3      1308009600   \n",
       "1      A great game ruined by Microsoft's account man...      1352851200   \n",
       "2                                      A 5 stars winner!      1318982400   \n",
       "3                                                   Cars      1388275200   \n",
       "4      It might have been a good game, but I never fo...      1404086400   \n",
       "...                                                  ...             ...   \n",
       "92318              Just got it and really like it so far      1403568000   \n",
       "92320     An Incredibly Reliable & Advanced Game Console      1405728000   \n",
       "92321                             No kinect, worse value      1402272000   \n",
       "92322       this is for rating the system not the seller      1405814400   \n",
       "92324                  Looks Like We Have Gougers Again.      1401667200   \n",
       "\n",
       "       reviewTime                                        cleanedText    nltk  \\\n",
       "0      2011-06-14  dirt xbox 360 okay game started playing games ...  0.9136   \n",
       "1      2012-11-14  initially gave one star crashing constantly re...  0.4019   \n",
       "2      2011-10-19  playing car racing games since early beginning...  0.9926   \n",
       "3      2013-12-29  dirt dvdi collect racing games add collections... -0.3400   \n",
       "4      2014-06-30  bought key work gift recipient able solve prob...  0.7651   \n",
       "...           ...                                                ...     ...   \n",
       "92318  2014-06-24  wow really one gaming console multimedia devic...  0.9801   \n",
       "92320  2014-07-19  xbox one initially announced revealed past jun...  0.9920   \n",
       "92321  2014-06-09  titanfall bundle low 450 getting game kinect s...  0.9605   \n",
       "92322  2014-07-20  funny people rating sellers ripping supposedly...  0.8608   \n",
       "92324  2014-06-02  get newegg 329 packaging alittle mine arrived ...  0.0000   \n",
       "\n",
       "       distilbert_positive  distilbert_negative  \n",
       "0                 0.992070             0.007930  \n",
       "1                 0.995254             0.004746  \n",
       "2                 0.754624             0.245376  \n",
       "3                 0.988628             0.011372  \n",
       "4                 0.932582             0.067418  \n",
       "...                    ...                  ...  \n",
       "92318             0.002039             0.997961  \n",
       "92320             0.956405             0.043595  \n",
       "92321             0.970660             0.029340  \n",
       "92322             0.996556             0.003444  \n",
       "92324             0.997100             0.002900  \n",
       "\n",
       "[72569 rows x 14 columns]"
      ]
     },
     "execution_count": 51,
     "metadata": {},
     "output_type": "execute_result"
    }
   ],
   "source": [
    "train"
   ]
  },
  {
   "cell_type": "code",
   "execution_count": null,
   "id": "eae9aa28",
   "metadata": {},
   "outputs": [],
   "source": []
  }
 ],
 "metadata": {
  "kernelspec": {
   "display_name": "Python 3 (ipykernel)",
   "language": "python",
   "name": "python3"
  },
  "language_info": {
   "codemirror_mode": {
    "name": "ipython",
    "version": 3
   },
   "file_extension": ".py",
   "mimetype": "text/x-python",
   "name": "python",
   "nbconvert_exporter": "python",
   "pygments_lexer": "ipython3",
   "version": "3.9.7"
  }
 },
 "nbformat": 4,
 "nbformat_minor": 5
}
