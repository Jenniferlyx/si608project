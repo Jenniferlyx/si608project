{
 "cells": [
  {
   "cell_type": "code",
   "execution_count": 35,
   "id": "9376e247",
   "metadata": {},
   "outputs": [],
   "source": [
    "import pandas as pd"
   ]
  },
  {
   "cell_type": "markdown",
   "id": "7c08717c",
   "metadata": {},
   "source": [
    "## Review"
   ]
  },
  {
   "cell_type": "code",
   "execution_count": 36,
   "id": "9e4bf047",
   "metadata": {
    "scrolled": true
   },
   "outputs": [
    {
     "data": {
      "text/plain": [
       "231780"
      ]
     },
     "execution_count": 36,
     "metadata": {},
     "output_type": "execute_result"
    }
   ],
   "source": [
    "review = pd.read_json('/home/mengyanw/si608project/reviews_Video_Games_5.json', lines=True)\n",
    "len(review)"
   ]
  },
  {
   "cell_type": "code",
   "execution_count": 37,
   "id": "9d6362c2",
   "metadata": {},
   "outputs": [
    {
     "data": {
      "text/plain": [
       "228967"
      ]
     },
     "execution_count": 37,
     "metadata": {},
     "output_type": "execute_result"
    }
   ],
   "source": [
    "review.dropna(inplace=True)\n",
    "len(review)"
   ]
  },
  {
   "cell_type": "code",
   "execution_count": 38,
   "id": "7f87cc80",
   "metadata": {
    "scrolled": true
   },
   "outputs": [
    {
     "data": {
      "text/plain": [
       "192789"
      ]
     },
     "execution_count": 38,
     "metadata": {},
     "output_type": "execute_result"
    }
   ],
   "source": [
    "review['reviewTime'] = pd.to_datetime(review.unixReviewTime, unit='s', origin='unix')\n",
    "review = review[review['reviewTime'] > '2006-01-01']\n",
    "len(review)"
   ]
  },
  {
   "cell_type": "code",
   "execution_count": 39,
   "id": "fe67eace",
   "metadata": {},
   "outputs": [
    {
     "data": {
      "text/plain": [
       "92354"
      ]
     },
     "execution_count": 39,
     "metadata": {},
     "output_type": "execute_result"
    }
   ],
   "source": [
    "dist = pd.DataFrame(review.reviewerID.value_counts())\n",
    "freq_reviewer = dist[dist['reviewerID'] >= 10].index\n",
    "review = review[review['reviewerID'].isin(freq_reviewer)]\n",
    "review.dropna(inplace=True)\n",
    "len(review)"
   ]
  },
  {
   "cell_type": "code",
   "execution_count": 40,
   "id": "c87fa07f",
   "metadata": {},
   "outputs": [],
   "source": [
    "review.to_csv('amazon-video-game-review-clean.csv', index=False)"
   ]
  },
  {
   "cell_type": "markdown",
   "id": "ae389eae",
   "metadata": {},
   "source": [
    "## Split train & test dataset"
   ]
  },
  {
   "cell_type": "code",
   "execution_count": 29,
   "id": "8d11b66a",
   "metadata": {
    "scrolled": true
   },
   "outputs": [
    {
     "data": {
      "text/plain": [
       "24700"
      ]
     },
     "execution_count": 29,
     "metadata": {},
     "output_type": "execute_result"
    }
   ],
   "source": [
    "len(freq_reviewer) * 5"
   ]
  },
  {
   "cell_type": "code",
   "execution_count": 30,
   "id": "104d11ae",
   "metadata": {},
   "outputs": [
    {
     "data": {
      "text/html": [
       "<div>\n",
       "<style scoped>\n",
       "    .dataframe tbody tr th:only-of-type {\n",
       "        vertical-align: middle;\n",
       "    }\n",
       "\n",
       "    .dataframe tbody tr th {\n",
       "        vertical-align: top;\n",
       "    }\n",
       "\n",
       "    .dataframe thead th {\n",
       "        text-align: right;\n",
       "    }\n",
       "</style>\n",
       "<table border=\"1\" class=\"dataframe\">\n",
       "  <thead>\n",
       "    <tr style=\"text-align: right;\">\n",
       "      <th></th>\n",
       "      <th>index</th>\n",
       "      <th>reviewerID</th>\n",
       "      <th>asin</th>\n",
       "      <th>reviewerName</th>\n",
       "      <th>helpful</th>\n",
       "      <th>reviewText</th>\n",
       "      <th>overall</th>\n",
       "      <th>summary</th>\n",
       "      <th>unixReviewTime</th>\n",
       "      <th>reviewTime</th>\n",
       "    </tr>\n",
       "  </thead>\n",
       "  <tbody>\n",
       "    <tr>\n",
       "      <th>0</th>\n",
       "      <td>0</td>\n",
       "      <td>A361M14PU2GUEG</td>\n",
       "      <td>0700099867</td>\n",
       "      <td>Angry Ryan \"Ryan A. Forrest\"</td>\n",
       "      <td>[2, 2]</td>\n",
       "      <td>I had Dirt 2 on Xbox 360 and it was an okay ga...</td>\n",
       "      <td>4</td>\n",
       "      <td>DIRT 3</td>\n",
       "      <td>1308009600</td>\n",
       "      <td>2011-06-14</td>\n",
       "    </tr>\n",
       "    <tr>\n",
       "      <th>1</th>\n",
       "      <td>1</td>\n",
       "      <td>A1QJJU33VNC4S7</td>\n",
       "      <td>0700099867</td>\n",
       "      <td>D@rkFX</td>\n",
       "      <td>[0, 1]</td>\n",
       "      <td>I initially gave this one star because it was ...</td>\n",
       "      <td>4</td>\n",
       "      <td>A great game ruined by Microsoft's account man...</td>\n",
       "      <td>1352851200</td>\n",
       "      <td>2012-11-14</td>\n",
       "    </tr>\n",
       "    <tr>\n",
       "      <th>2</th>\n",
       "      <td>2</td>\n",
       "      <td>ANW6EGY12V5XS</td>\n",
       "      <td>0700099867</td>\n",
       "      <td>Henri Savin</td>\n",
       "      <td>[0, 0]</td>\n",
       "      <td>I have been playing car racing games since the...</td>\n",
       "      <td>5</td>\n",
       "      <td>A 5 stars winner!</td>\n",
       "      <td>1318982400</td>\n",
       "      <td>2011-10-19</td>\n",
       "    </tr>\n",
       "    <tr>\n",
       "      <th>3</th>\n",
       "      <td>3</td>\n",
       "      <td>AHT34BRYFBFT1</td>\n",
       "      <td>0700099867</td>\n",
       "      <td>hewimp</td>\n",
       "      <td>[0, 1]</td>\n",
       "      <td>Dirt 3 on DVDi collect racing games so had to ...</td>\n",
       "      <td>5</td>\n",
       "      <td>Cars</td>\n",
       "      <td>1388275200</td>\n",
       "      <td>2013-12-29</td>\n",
       "    </tr>\n",
       "    <tr>\n",
       "      <th>4</th>\n",
       "      <td>4</td>\n",
       "      <td>A248LSBZT4P38V</td>\n",
       "      <td>0700099867</td>\n",
       "      <td>Joseph R. Kennedy</td>\n",
       "      <td>[0, 0]</td>\n",
       "      <td>I bought this and the key didn't work.  It was...</td>\n",
       "      <td>1</td>\n",
       "      <td>It might have been a good game, but I never fo...</td>\n",
       "      <td>1404086400</td>\n",
       "      <td>2014-06-30</td>\n",
       "    </tr>\n",
       "  </tbody>\n",
       "</table>\n",
       "</div>"
      ],
      "text/plain": [
       "   index      reviewerID        asin                  reviewerName helpful  \\\n",
       "0      0  A361M14PU2GUEG  0700099867  Angry Ryan \"Ryan A. Forrest\"  [2, 2]   \n",
       "1      1  A1QJJU33VNC4S7  0700099867                        D@rkFX  [0, 1]   \n",
       "2      2   ANW6EGY12V5XS  0700099867                   Henri Savin  [0, 0]   \n",
       "3      3   AHT34BRYFBFT1  0700099867                        hewimp  [0, 1]   \n",
       "4      4  A248LSBZT4P38V  0700099867             Joseph R. Kennedy  [0, 0]   \n",
       "\n",
       "                                          reviewText  overall  \\\n",
       "0  I had Dirt 2 on Xbox 360 and it was an okay ga...        4   \n",
       "1  I initially gave this one star because it was ...        4   \n",
       "2  I have been playing car racing games since the...        5   \n",
       "3  Dirt 3 on DVDi collect racing games so had to ...        5   \n",
       "4  I bought this and the key didn't work.  It was...        1   \n",
       "\n",
       "                                             summary  unixReviewTime  \\\n",
       "0                                             DIRT 3      1308009600   \n",
       "1  A great game ruined by Microsoft's account man...      1352851200   \n",
       "2                                  A 5 stars winner!      1318982400   \n",
       "3                                               Cars      1388275200   \n",
       "4  It might have been a good game, but I never fo...      1404086400   \n",
       "\n",
       "  reviewTime  \n",
       "0 2011-06-14  \n",
       "1 2012-11-14  \n",
       "2 2011-10-19  \n",
       "3 2013-12-29  \n",
       "4 2014-06-30  "
      ]
     },
     "execution_count": 30,
     "metadata": {},
     "output_type": "execute_result"
    }
   ],
   "source": [
    "review = review.reset_index().drop('index', axis=1).reset_index()\n",
    "review.head()"
   ]
  },
  {
   "cell_type": "code",
   "execution_count": 31,
   "id": "c2509f6f",
   "metadata": {},
   "outputs": [
    {
     "data": {
      "text/plain": [
       "19760"
      ]
     },
     "execution_count": 31,
     "metadata": {},
     "output_type": "execute_result"
    }
   ],
   "source": [
    "test = review.groupby('reviewerID').apply(lambda x: x.sample(n = 4)).reset_index(drop = True)\n",
    "len(test)"
   ]
  },
  {
   "cell_type": "code",
   "execution_count": 32,
   "id": "f4d4ae91",
   "metadata": {},
   "outputs": [
    {
     "data": {
      "text/plain": [
       "72594"
      ]
     },
     "execution_count": 32,
     "metadata": {},
     "output_type": "execute_result"
    }
   ],
   "source": [
    "train = review[~review['index'].isin(test['index'])]\n",
    "len(train)"
   ]
  },
  {
   "cell_type": "markdown",
   "id": "8ef885e2",
   "metadata": {},
   "source": [
    "## metadata"
   ]
  },
  {
   "cell_type": "code",
   "execution_count": 11,
   "id": "7f629307",
   "metadata": {
    "scrolled": true
   },
   "outputs": [
    {
     "data": {
      "text/html": [
       "<div>\n",
       "<style scoped>\n",
       "    .dataframe tbody tr th:only-of-type {\n",
       "        vertical-align: middle;\n",
       "    }\n",
       "\n",
       "    .dataframe tbody tr th {\n",
       "        vertical-align: top;\n",
       "    }\n",
       "\n",
       "    .dataframe thead th {\n",
       "        text-align: right;\n",
       "    }\n",
       "</style>\n",
       "<table border=\"1\" class=\"dataframe\">\n",
       "  <thead>\n",
       "    <tr style=\"text-align: right;\">\n",
       "      <th></th>\n",
       "      <th>asin</th>\n",
       "      <th>description</th>\n",
       "      <th>price</th>\n",
       "      <th>imUrl</th>\n",
       "      <th>related</th>\n",
       "      <th>salesRank</th>\n",
       "      <th>categories</th>\n",
       "      <th>title</th>\n",
       "      <th>brand</th>\n",
       "    </tr>\n",
       "  </thead>\n",
       "  <tbody>\n",
       "    <tr>\n",
       "      <th>0</th>\n",
       "      <td>0078764343</td>\n",
       "      <td>Brand new sealed!</td>\n",
       "      <td>37.98</td>\n",
       "      <td>http://ecx.images-amazon.com/images/I/513h6dPb...</td>\n",
       "      <td>{'also_bought': ['B000TI836G', 'B003Q53VZC', '...</td>\n",
       "      <td>{'Video Games': 28655}</td>\n",
       "      <td>[[Video Games, Xbox 360, Games]]</td>\n",
       "      <td>NaN</td>\n",
       "      <td>NaN</td>\n",
       "    </tr>\n",
       "    <tr>\n",
       "      <th>1</th>\n",
       "      <td>043933702X</td>\n",
       "      <td>In Stock NOW.  Eligible for FREE Super Saving ...</td>\n",
       "      <td>23.50</td>\n",
       "      <td>http://ecx.images-amazon.com/images/I/61KKRndV...</td>\n",
       "      <td>{'also_viewed': ['B000067NP1', '0439573947', '...</td>\n",
       "      <td>{'Video Games': 44080}</td>\n",
       "      <td>[[Video Games, PC, Games]]</td>\n",
       "      <td>NaN</td>\n",
       "      <td>NaN</td>\n",
       "    </tr>\n",
       "    <tr>\n",
       "      <th>2</th>\n",
       "      <td>0439339987</td>\n",
       "      <td>Grandma Groupers kelp seeds are missing and wi...</td>\n",
       "      <td>8.95</td>\n",
       "      <td>http://ecx.images-amazon.com/images/I/416QZg89...</td>\n",
       "      <td>{'also_bought': ['B000314VVU', 'B000PXUOTE', '...</td>\n",
       "      <td>{'Video Games': 49836}</td>\n",
       "      <td>[[Video Games, PC, Games]]</td>\n",
       "      <td>NaN</td>\n",
       "      <td>NaN</td>\n",
       "    </tr>\n",
       "    <tr>\n",
       "      <th>3</th>\n",
       "      <td>0439342260</td>\n",
       "      <td>This software is BRAND NEW. Packaging may diff...</td>\n",
       "      <td>NaN</td>\n",
       "      <td>http://ecx.images-amazon.com/images/I/61Wvu-Uj...</td>\n",
       "      <td>{'also_viewed': ['043934302X']}</td>\n",
       "      <td>{'Video Games': 49156}</td>\n",
       "      <td>[[Video Games, PC, Games]]</td>\n",
       "      <td>NaN</td>\n",
       "      <td>NaN</td>\n",
       "    </tr>\n",
       "    <tr>\n",
       "      <th>4</th>\n",
       "      <td>0439339960</td>\n",
       "      <td>a scholastic clubs fairs cd rom game</td>\n",
       "      <td>NaN</td>\n",
       "      <td>http://ecx.images-amazon.com/images/I/51k3oRCF...</td>\n",
       "      <td>{'also_viewed': ['B00028D7TG']}</td>\n",
       "      <td>{'Video Games': 52262}</td>\n",
       "      <td>[[Video Games, PC, Games]]</td>\n",
       "      <td>NaN</td>\n",
       "      <td>NaN</td>\n",
       "    </tr>\n",
       "  </tbody>\n",
       "</table>\n",
       "</div>"
      ],
      "text/plain": [
       "         asin                                        description  price  \\\n",
       "0  0078764343                                  Brand new sealed!  37.98   \n",
       "1  043933702X  In Stock NOW.  Eligible for FREE Super Saving ...  23.50   \n",
       "2  0439339987  Grandma Groupers kelp seeds are missing and wi...   8.95   \n",
       "3  0439342260  This software is BRAND NEW. Packaging may diff...    NaN   \n",
       "4  0439339960               a scholastic clubs fairs cd rom game    NaN   \n",
       "\n",
       "                                               imUrl  \\\n",
       "0  http://ecx.images-amazon.com/images/I/513h6dPb...   \n",
       "1  http://ecx.images-amazon.com/images/I/61KKRndV...   \n",
       "2  http://ecx.images-amazon.com/images/I/416QZg89...   \n",
       "3  http://ecx.images-amazon.com/images/I/61Wvu-Uj...   \n",
       "4  http://ecx.images-amazon.com/images/I/51k3oRCF...   \n",
       "\n",
       "                                             related               salesRank  \\\n",
       "0  {'also_bought': ['B000TI836G', 'B003Q53VZC', '...  {'Video Games': 28655}   \n",
       "1  {'also_viewed': ['B000067NP1', '0439573947', '...  {'Video Games': 44080}   \n",
       "2  {'also_bought': ['B000314VVU', 'B000PXUOTE', '...  {'Video Games': 49836}   \n",
       "3                    {'also_viewed': ['043934302X']}  {'Video Games': 49156}   \n",
       "4                    {'also_viewed': ['B00028D7TG']}  {'Video Games': 52262}   \n",
       "\n",
       "                         categories title brand  \n",
       "0  [[Video Games, Xbox 360, Games]]   NaN   NaN  \n",
       "1        [[Video Games, PC, Games]]   NaN   NaN  \n",
       "2        [[Video Games, PC, Games]]   NaN   NaN  \n",
       "3        [[Video Games, PC, Games]]   NaN   NaN  \n",
       "4        [[Video Games, PC, Games]]   NaN   NaN  "
      ]
     },
     "execution_count": 11,
     "metadata": {},
     "output_type": "execute_result"
    }
   ],
   "source": [
    "import json\n",
    "import ast\n",
    "file = open('meta_Video_Games.json',mode='r')\n",
    "lines = file.readlines()\n",
    "file.close()\n",
    "res = []\n",
    "for line in lines:\n",
    "    res.append(ast.literal_eval(line))\n",
    "meta = pd.DataFrame(res)\n",
    "meta.head()"
   ]
  },
  {
   "cell_type": "code",
   "execution_count": 12,
   "id": "45fe641e",
   "metadata": {
    "scrolled": false
   },
   "outputs": [
    {
     "data": {
      "text/plain": [
       "array(['0700099867', '6050036071', '7100027950', ..., 'B00JXW6GE0',\n",
       "       'B00KAI3KW2', 'B00KHECZXO'], dtype=object)"
      ]
     },
     "execution_count": 12,
     "metadata": {},
     "output_type": "execute_result"
    }
   ],
   "source": [
    "reviewList = review.asin.unique()\n",
    "reviewList"
   ]
  },
  {
   "cell_type": "code",
   "execution_count": 13,
   "id": "db54440e",
   "metadata": {},
   "outputs": [],
   "source": [
    "metaList = meta.asin.unique()"
   ]
  },
  {
   "cell_type": "code",
   "execution_count": 14,
   "id": "89cbfc34",
   "metadata": {},
   "outputs": [
    {
     "data": {
      "text/plain": [
       "True"
      ]
     },
     "execution_count": 14,
     "metadata": {},
     "output_type": "execute_result"
    }
   ],
   "source": [
    "set(reviewList).issubset(set(metaList))"
   ]
  },
  {
   "cell_type": "code",
   "execution_count": 15,
   "id": "2e86c4db",
   "metadata": {},
   "outputs": [],
   "source": [
    "meta_valid = meta[meta.asin.isin(reviewList)]"
   ]
  },
  {
   "cell_type": "code",
   "execution_count": 16,
   "id": "a442223a",
   "metadata": {},
   "outputs": [],
   "source": [
    "# merged = pd.merge(review, meta_valid, on='asin')"
   ]
  },
  {
   "cell_type": "code",
   "execution_count": 17,
   "id": "22705ac7",
   "metadata": {},
   "outputs": [],
   "source": [
    "meta.to_csv('amazon-video-game-meta-clean.csv', index=False)"
   ]
  },
  {
   "cell_type": "code",
   "execution_count": 18,
   "id": "1e65759e",
   "metadata": {},
   "outputs": [],
   "source": [
    "# merged.to_csv('amazon-video-game-review-with-product-info.csv', index=False)"
   ]
  },
  {
   "cell_type": "code",
   "execution_count": null,
   "id": "d3b4c853",
   "metadata": {},
   "outputs": [],
   "source": []
  }
 ],
 "metadata": {
  "kernelspec": {
   "display_name": "Python 3 (ipykernel)",
   "language": "python",
   "name": "python3"
  },
  "language_info": {
   "codemirror_mode": {
    "name": "ipython",
    "version": 3
   },
   "file_extension": ".py",
   "mimetype": "text/x-python",
   "name": "python",
   "nbconvert_exporter": "python",
   "pygments_lexer": "ipython3",
   "version": "3.8.12"
  }
 },
 "nbformat": 4,
 "nbformat_minor": 5
}
