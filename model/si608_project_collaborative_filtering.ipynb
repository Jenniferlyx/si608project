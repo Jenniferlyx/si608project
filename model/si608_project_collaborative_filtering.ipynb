{
 "cells": [
  {
   "cell_type": "code",
   "execution_count": 1,
   "id": "8706404e",
   "metadata": {},
   "outputs": [],
   "source": [
    "import seaborn as sns\n",
    "import networkx as nx\n",
    "import pandas as pd\n",
    "import matplotlib.pyplot as plt\n",
    "import collections\n",
    "import numpy as np\n",
    "from networkx.algorithms import bipartite\n",
    "from sklearn import model_selection as cv\n",
    "from sklearn.metrics import mean_squared_error, mean_absolute_error\n",
    "from sklearn.metrics.pairwise import pairwise_distances\n",
    "from sklearn.cluster import SpectralClustering\n",
    "from sklearn.preprocessing import MinMaxScaler, StandardScaler\n",
    "\n",
    "import random\n",
    "from tqdm import tqdm\n",
    "from math import sqrt\n",
    "seed=0\n",
    "random.seed(seed)"
   ]
  },
  {
   "cell_type": "code",
   "execution_count": 2,
   "id": "bf2f5356",
   "metadata": {},
   "outputs": [],
   "source": [
    "df = pd.read_csv('../data/review.csv')"
   ]
  },
  {
   "cell_type": "code",
   "execution_count": 4,
   "id": "a926e815",
   "metadata": {},
   "outputs": [
    {
     "name": "stdout",
     "output_type": "stream",
     "text": [
      "(92325, 4)\n"
     ]
    },
    {
     "data": {
      "text/html": [
       "<div>\n",
       "<style scoped>\n",
       "    .dataframe tbody tr th:only-of-type {\n",
       "        vertical-align: middle;\n",
       "    }\n",
       "\n",
       "    .dataframe tbody tr th {\n",
       "        vertical-align: top;\n",
       "    }\n",
       "\n",
       "    .dataframe thead th {\n",
       "        text-align: right;\n",
       "    }\n",
       "</style>\n",
       "<table border=\"1\" class=\"dataframe\">\n",
       "  <thead>\n",
       "    <tr style=\"text-align: right;\">\n",
       "      <th></th>\n",
       "      <th>reviewerID</th>\n",
       "      <th>asin</th>\n",
       "      <th>overall</th>\n",
       "      <th>nltk</th>\n",
       "    </tr>\n",
       "  </thead>\n",
       "  <tbody>\n",
       "    <tr>\n",
       "      <th>0</th>\n",
       "      <td>A361M14PU2GUEG</td>\n",
       "      <td>0700099867</td>\n",
       "      <td>0.75000</td>\n",
       "      <td>0.956798</td>\n",
       "    </tr>\n",
       "    <tr>\n",
       "      <th>1</th>\n",
       "      <td>A1QJJU33VNC4S7</td>\n",
       "      <td>0700099867</td>\n",
       "      <td>0.75000</td>\n",
       "      <td>0.700935</td>\n",
       "    </tr>\n",
       "    <tr>\n",
       "      <th>2</th>\n",
       "      <td>ANW6EGY12V5XS</td>\n",
       "      <td>0700099867</td>\n",
       "      <td>1.00000</td>\n",
       "      <td>0.996300</td>\n",
       "    </tr>\n",
       "    <tr>\n",
       "      <th>3</th>\n",
       "      <td>AHT34BRYFBFT1</td>\n",
       "      <td>0700099867</td>\n",
       "      <td>1.00000</td>\n",
       "      <td>0.329966</td>\n",
       "    </tr>\n",
       "    <tr>\n",
       "      <th>4</th>\n",
       "      <td>A248LSBZT4P38V</td>\n",
       "      <td>0700099867</td>\n",
       "      <td>0.00001</td>\n",
       "      <td>0.882544</td>\n",
       "    </tr>\n",
       "  </tbody>\n",
       "</table>\n",
       "</div>"
      ],
      "text/plain": [
       "       reviewerID        asin  overall      nltk\n",
       "0  A361M14PU2GUEG  0700099867  0.75000  0.956798\n",
       "1  A1QJJU33VNC4S7  0700099867  0.75000  0.700935\n",
       "2   ANW6EGY12V5XS  0700099867  1.00000  0.996300\n",
       "3   AHT34BRYFBFT1  0700099867  1.00000  0.329966\n",
       "4  A248LSBZT4P38V  0700099867  0.00001  0.882544"
      ]
     },
     "execution_count": 4,
     "metadata": {},
     "output_type": "execute_result"
    }
   ],
   "source": [
    "scaler = MinMaxScaler()\n",
    "df['overall'] = scaler.fit_transform(df[['overall']])\n",
    "scaler = MinMaxScaler()\n",
    "df['nltk'] = scaler.fit_transform(df[['nltk']])\n",
    "df = df[['reviewerID', 'asin', 'overall', 'nltk']]\n",
    "df.replace(to_replace=0, value=1e-5, inplace=True)\n",
    "print(df.shape)\n",
    "df.head(5)"
   ]
  },
  {
   "cell_type": "code",
   "execution_count": 5,
   "id": "07445d3a",
   "metadata": {},
   "outputs": [
    {
     "data": {
      "text/plain": [
       "92325"
      ]
     },
     "execution_count": 5,
     "metadata": {},
     "output_type": "execute_result"
    }
   ],
   "source": [
    "len(set(zip(df.reviewerID.tolist(), df.asin.tolist()))) # the pairs are unique"
   ]
  },
  {
   "cell_type": "code",
   "execution_count": 6,
   "id": "69d4e7b3",
   "metadata": {},
   "outputs": [
    {
     "name": "stdout",
     "output_type": "stream",
     "text": [
      "4939 9899\n"
     ]
    }
   ],
   "source": [
    "user2idx = {}\n",
    "for i, user in enumerate(df.reviewerID.unique()):\n",
    "    user2idx[user] = i\n",
    "item2idx = {}\n",
    "for i, item in enumerate(df.asin.unique()):\n",
    "    item2idx[item] = i\n",
    "n_users = len(df.reviewerID.unique())\n",
    "n_items = len(df.asin.unique())\n",
    "print(n_users, n_items)"
   ]
  },
  {
   "cell_type": "code",
   "execution_count": 7,
   "id": "0df855b5",
   "metadata": {},
   "outputs": [],
   "source": [
    "idx2user = {y: x for x, y in user2idx.items()}\n",
    "idx2item = {y: x for x, y in item2idx.items()}"
   ]
  },
  {
   "cell_type": "code",
   "execution_count": 33,
   "id": "567f277c",
   "metadata": {},
   "outputs": [
    {
     "name": "stdout",
     "output_type": "stream",
     "text": [
      "(92325, 6)\n",
      "Sparsity: 0.19%\n"
     ]
    }
   ],
   "source": [
    "df['user_id'] = df['reviewerID'].map(user2idx)\n",
    "df['item_id'] = df['asin'].map(item2idx)\n",
    "print(df.shape)\n",
    "ratings = np.zeros((n_users, n_items))\n",
    "for row in df.itertuples():\n",
    "    ratings[row.user_id, row.item_id] = row.overall\n",
    "sparsity = float(np.count_nonzero(ratings))\n",
    "sparsity /= (ratings.shape[0] * ratings.shape[1])\n",
    "sparsity *= 100\n",
    "print('Sparsity: {:4.2f}%'.format(sparsity))"
   ]
  },
  {
   "cell_type": "code",
   "execution_count": 9,
   "id": "c802f41e",
   "metadata": {},
   "outputs": [
    {
     "name": "stdout",
     "output_type": "stream",
     "text": [
      "(19756, 6)\n"
     ]
    },
    {
     "data": {
      "text/html": [
       "<div>\n",
       "<style scoped>\n",
       "    .dataframe tbody tr th:only-of-type {\n",
       "        vertical-align: middle;\n",
       "    }\n",
       "\n",
       "    .dataframe tbody tr th {\n",
       "        vertical-align: top;\n",
       "    }\n",
       "\n",
       "    .dataframe thead th {\n",
       "        text-align: right;\n",
       "    }\n",
       "</style>\n",
       "<table border=\"1\" class=\"dataframe\">\n",
       "  <thead>\n",
       "    <tr style=\"text-align: right;\">\n",
       "      <th></th>\n",
       "      <th>reviewerID</th>\n",
       "      <th>asin</th>\n",
       "      <th>overall</th>\n",
       "      <th>nltk</th>\n",
       "      <th>user_id</th>\n",
       "      <th>item_id</th>\n",
       "    </tr>\n",
       "  </thead>\n",
       "  <tbody>\n",
       "    <tr>\n",
       "      <th>0</th>\n",
       "      <td>A005481137I9SCAWEF7ON</td>\n",
       "      <td>B0009OGJ02</td>\n",
       "      <td>0.75</td>\n",
       "      <td>0.996199</td>\n",
       "      <td>373</td>\n",
       "      <td>2622</td>\n",
       "    </tr>\n",
       "    <tr>\n",
       "      <th>1</th>\n",
       "      <td>A005481137I9SCAWEF7ON</td>\n",
       "      <td>B00008URUA</td>\n",
       "      <td>1.00</td>\n",
       "      <td>0.863530</td>\n",
       "      <td>373</td>\n",
       "      <td>1632</td>\n",
       "    </tr>\n",
       "    <tr>\n",
       "      <th>2</th>\n",
       "      <td>A005481137I9SCAWEF7ON</td>\n",
       "      <td>B0007ZNH5I</td>\n",
       "      <td>0.75</td>\n",
       "      <td>0.991299</td>\n",
       "      <td>373</td>\n",
       "      <td>2498</td>\n",
       "    </tr>\n",
       "    <tr>\n",
       "      <th>3</th>\n",
       "      <td>A005481137I9SCAWEF7ON</td>\n",
       "      <td>B00004T4XO</td>\n",
       "      <td>1.00</td>\n",
       "      <td>0.991299</td>\n",
       "      <td>373</td>\n",
       "      <td>671</td>\n",
       "    </tr>\n",
       "    <tr>\n",
       "      <th>4</th>\n",
       "      <td>A049511737EMTVGTZXNKV</td>\n",
       "      <td>B000Q6J51S</td>\n",
       "      <td>1.00</td>\n",
       "      <td>0.982897</td>\n",
       "      <td>2190</td>\n",
       "      <td>3934</td>\n",
       "    </tr>\n",
       "  </tbody>\n",
       "</table>\n",
       "</div>"
      ],
      "text/plain": [
       "              reviewerID        asin  overall      nltk  user_id  item_id\n",
       "0  A005481137I9SCAWEF7ON  B0009OGJ02     0.75  0.996199      373     2622\n",
       "1  A005481137I9SCAWEF7ON  B00008URUA     1.00  0.863530      373     1632\n",
       "2  A005481137I9SCAWEF7ON  B0007ZNH5I     0.75  0.991299      373     2498\n",
       "3  A005481137I9SCAWEF7ON  B00004T4XO     1.00  0.991299      373      671\n",
       "4  A049511737EMTVGTZXNKV  B000Q6J51S     1.00  0.982897     2190     3934"
      ]
     },
     "execution_count": 9,
     "metadata": {},
     "output_type": "execute_result"
    }
   ],
   "source": [
    "test_df = pd.read_csv('../data/test.csv')\n",
    "scaler = MinMaxScaler()\n",
    "test_df['overall'] = scaler.fit_transform(test_df[['overall']])\n",
    "scaler = MinMaxScaler()\n",
    "test_df['nltk'] = scaler.fit_transform(test_df[['nltk']])\n",
    "test_df = test_df[['reviewerID', 'asin', 'overall', 'nltk']]\n",
    "test_df.replace(to_replace=0, value=1e-5, inplace=True)\n",
    "test_df['user_id'] = test_df['reviewerID'].map(user2idx)\n",
    "test_df['item_id'] = test_df['asin'].map(item2idx)\n",
    "print(test_df.shape)\n",
    "test_df.head(5)"
   ]
  },
  {
   "cell_type": "code",
   "execution_count": 10,
   "id": "635ccd00",
   "metadata": {},
   "outputs": [
    {
     "name": "stdout",
     "output_type": "stream",
     "text": [
      "(72569, 6)\n",
      "(92325, 6)\n"
     ]
    },
    {
     "data": {
      "text/html": [
       "<div>\n",
       "<style scoped>\n",
       "    .dataframe tbody tr th:only-of-type {\n",
       "        vertical-align: middle;\n",
       "    }\n",
       "\n",
       "    .dataframe tbody tr th {\n",
       "        vertical-align: top;\n",
       "    }\n",
       "\n",
       "    .dataframe thead th {\n",
       "        text-align: right;\n",
       "    }\n",
       "</style>\n",
       "<table border=\"1\" class=\"dataframe\">\n",
       "  <thead>\n",
       "    <tr style=\"text-align: right;\">\n",
       "      <th></th>\n",
       "      <th>reviewerID</th>\n",
       "      <th>asin</th>\n",
       "      <th>overall</th>\n",
       "      <th>nltk</th>\n",
       "      <th>user_id</th>\n",
       "      <th>item_id</th>\n",
       "    </tr>\n",
       "  </thead>\n",
       "  <tbody>\n",
       "    <tr>\n",
       "      <th>0</th>\n",
       "      <td>A361M14PU2GUEG</td>\n",
       "      <td>0700099867</td>\n",
       "      <td>0.75000</td>\n",
       "      <td>0.956798</td>\n",
       "      <td>0</td>\n",
       "      <td>0</td>\n",
       "    </tr>\n",
       "    <tr>\n",
       "      <th>1</th>\n",
       "      <td>A1QJJU33VNC4S7</td>\n",
       "      <td>0700099867</td>\n",
       "      <td>0.75000</td>\n",
       "      <td>0.700935</td>\n",
       "      <td>1</td>\n",
       "      <td>0</td>\n",
       "    </tr>\n",
       "    <tr>\n",
       "      <th>2</th>\n",
       "      <td>ANW6EGY12V5XS</td>\n",
       "      <td>0700099867</td>\n",
       "      <td>1.00000</td>\n",
       "      <td>0.996300</td>\n",
       "      <td>2</td>\n",
       "      <td>0</td>\n",
       "    </tr>\n",
       "    <tr>\n",
       "      <th>3</th>\n",
       "      <td>AHT34BRYFBFT1</td>\n",
       "      <td>0700099867</td>\n",
       "      <td>1.00000</td>\n",
       "      <td>0.329966</td>\n",
       "      <td>3</td>\n",
       "      <td>0</td>\n",
       "    </tr>\n",
       "    <tr>\n",
       "      <th>4</th>\n",
       "      <td>A248LSBZT4P38V</td>\n",
       "      <td>0700099867</td>\n",
       "      <td>0.00001</td>\n",
       "      <td>0.882544</td>\n",
       "      <td>4</td>\n",
       "      <td>0</td>\n",
       "    </tr>\n",
       "  </tbody>\n",
       "</table>\n",
       "</div>"
      ],
      "text/plain": [
       "       reviewerID        asin  overall      nltk  user_id  item_id\n",
       "0  A361M14PU2GUEG  0700099867  0.75000  0.956798        0        0\n",
       "1  A1QJJU33VNC4S7  0700099867  0.75000  0.700935        1        0\n",
       "2   ANW6EGY12V5XS  0700099867  1.00000  0.996300        2        0\n",
       "3   AHT34BRYFBFT1  0700099867  1.00000  0.329966        3        0\n",
       "4  A248LSBZT4P38V  0700099867  0.00001  0.882544        4        0"
      ]
     },
     "execution_count": 10,
     "metadata": {},
     "output_type": "execute_result"
    }
   ],
   "source": [
    "train_df = pd.read_csv('../data/train.csv')\n",
    "scaler = MinMaxScaler()\n",
    "train_df['overall'] = scaler.fit_transform(train_df[['overall']])\n",
    "scaler = MinMaxScaler()\n",
    "train_df['nltk'] = scaler.fit_transform(train_df[['nltk']])\n",
    "train_df = train_df[['reviewerID', 'asin', 'overall', 'nltk']]\n",
    "train_df.replace(to_replace=0, value=1e-5, inplace=True)\n",
    "train_df['user_id'] = train_df['reviewerID'].map(user2idx)\n",
    "train_df['item_id'] = train_df['asin'].map(item2idx)\n",
    "print(train_df.shape)\n",
    "tmp_test_df = test_df.copy()\n",
    "tmp_test_df['overall'] = [0] * tmp_test_df.shape[0]\n",
    "tmp_test_df['nltk'] = [0] * tmp_test_df.shape[0]\n",
    "train_df = pd.concat([train_df, tmp_test_df])\n",
    "print(train_df.shape)\n",
    "train_df.head(5)"
   ]
  },
  {
   "cell_type": "code",
   "execution_count": 11,
   "id": "23b506be",
   "metadata": {},
   "outputs": [],
   "source": [
    "# train_df = pd.DataFrame(columns=df.columns)\n",
    "# test_df = pd.DataFrame(columns=df.columns)\n",
    "# for user in tqdm(df.reviewerID.unique()):\n",
    "#     tmp = df[df['reviewerID'] == user]\n",
    "#     if tmp.shape[0] >= 20:\n",
    "#         tmp_train_df, tmp_test_df = cv.train_test_split(tmp, test_size=12, random_state=seed)\n",
    "#         train_df = pd.concat([train_df, tmp_train_df])\n",
    "#         test_df = pd.concat([test_df, tmp_test_df])\n",
    "#         tmp_test_df['overall'] = [0] * tmp_test_df.shape[0]\n",
    "#         train_df = pd.concat([train_df, tmp_test_df])\n",
    "#     else:\n",
    "#         train_df = pd.concat([train_df, tmp])\n",
    "# print(train_df.shape, test_df.shape)"
   ]
  },
  {
   "cell_type": "markdown",
   "id": "d034c103",
   "metadata": {},
   "source": [
    "# User-based\n",
    "\n",
    "## 1. Naive baseline\n"
   ]
  },
  {
   "cell_type": "markdown",
   "id": "7effb64f",
   "metadata": {},
   "source": [
    "The prediction of the rating of user $u$ towards an item $i$:\n",
    "$$\n",
    "\\hat{r_{u,i}}=\\mu+d_u+d_i\n",
    "$$\n",
    "\n",
    "$\\mu$: average rating of items by all users.\n",
    "\n",
    "$d_u$: difference of user $u$'s average rating from $\\mu$.\n",
    "\n",
    "$d_b$: difference of item $i$'s average rating from $\\mu$."
   ]
  },
  {
   "cell_type": "code",
   "execution_count": 12,
   "id": "3c60891b",
   "metadata": {},
   "outputs": [],
   "source": [
    "def naive_baseline(score):\n",
    "    def predict_rating_naive(user, item, rating_df, mu, score):\n",
    "        d_u = rating_df[rating_df['user_id'] == user][score].mean() - mu\n",
    "        d_i = rating_df[rating_df['item_id'] == item][score].mean() - mu\n",
    "        return mu + d_u + d_i\n",
    "    mu = train_df[score].mean()\n",
    "    preds = []\n",
    "    for i in tqdm(range(len(test_df['user_id']))):\n",
    "        user = test_df['user_id'].tolist()[i]\n",
    "        item = test_df['item_id'].tolist()[i]\n",
    "        assert(train_df[(train_df['user_id'] == user) & (train_df['item_id'] == item)][score].tolist() == [0])\n",
    "        preds.append(predict_rating_naive(user, item, train_df, mu, score))\n",
    "    print(\"Naive baseline with {} score\".format(score))\n",
    "    print(\"    rmse:\", sqrt(mean_squared_error(preds, test_df[score].tolist())))\n",
    "    print(\"    mae:\", mean_absolute_error(preds, test_df[score].tolist()))"
   ]
  },
  {
   "cell_type": "code",
   "execution_count": 13,
   "id": "71834a9f",
   "metadata": {},
   "outputs": [
    {
     "name": "stderr",
     "output_type": "stream",
     "text": [
      "100%|████████████████████████████████████| 19756/19756 [00:26<00:00, 753.01it/s]"
     ]
    },
    {
     "name": "stdout",
     "output_type": "stream",
     "text": [
      "Naive baseline with overall score\n",
      "    rmse: 0.4110363404068277\n",
      "    mae: 0.3483667058444958\n"
     ]
    },
    {
     "name": "stderr",
     "output_type": "stream",
     "text": [
      "\n"
     ]
    }
   ],
   "source": [
    "naive_baseline('overall')"
   ]
  },
  {
   "cell_type": "code",
   "execution_count": 14,
   "id": "40fa67aa",
   "metadata": {},
   "outputs": [
    {
     "name": "stderr",
     "output_type": "stream",
     "text": [
      "100%|████████████████████████████████████| 19756/19756 [00:26<00:00, 733.90it/s]"
     ]
    },
    {
     "name": "stdout",
     "output_type": "stream",
     "text": [
      "Naive baseline with nltk score\n",
      "    rmse: 0.4248654439503167\n",
      "    mae: 0.37322816065982145\n"
     ]
    },
    {
     "name": "stderr",
     "output_type": "stream",
     "text": [
      "\n"
     ]
    }
   ],
   "source": [
    "naive_baseline('nltk')"
   ]
  },
  {
   "cell_type": "markdown",
   "id": "59622092",
   "metadata": {},
   "source": [
    "## 2. Memory-based"
   ]
  },
  {
   "cell_type": "markdown",
   "id": "b551e8ae",
   "metadata": {},
   "source": [
    "The prediction of the rating of user $u$ towards an item $i$:\n",
    "$$\n",
    "\\hat{r_{u,i}} = \\bar{r_u} + \\alpha \\sum_{j=1}^n sim(u,j)(r_{j,i}-\\bar{r_j}), \\quad \\bar{r_u}=\\frac{1}{I_u}\\sum_{j\\in I_u}r_{u,j}\n",
    "$$\n",
    "\n",
    "$I_u$: the set of items on which user $u$ voted.\n",
    "\n",
    "$\\bar{r_u}$: average rating given by user $u$.\n",
    "\n",
    "$sim(u,j)$: the similarity measure between user $u$ and user $j$. The weight of the edges in the weighted bipartite graph projection.\n",
    "\n",
    "$\\alpha$: normalizing factor so that the absolute values of the similarity metrics sum to 1.\n",
    "\n",
    "$r_{j,i}$: actual rating given by user $j$ to item $i$.\n",
    "\n",
    "$n$: number of users that give a rating to item $i$."
   ]
  },
  {
   "cell_type": "markdown",
   "id": "4f5ccf83",
   "metadata": {},
   "source": [
    "### OMP"
   ]
  },
  {
   "cell_type": "markdown",
   "id": "aa1d0090",
   "metadata": {},
   "source": [
    "Construct the one mode projection (OMP) by summing the edge weights of bipartite graph if two users review the same product. For example, if $u$ and $v$ both review product $i$, $u$ has a sentiment score of 0.8 while $v$ has a sentiment score of 0.6, the edge weight of OMP should be 1.4."
   ]
  },
  {
   "cell_type": "code",
   "execution_count": 15,
   "id": "4eb822a2",
   "metadata": {},
   "outputs": [],
   "source": [
    "def get_user_avg_rating(user, g):\n",
    "    user_weights = []\n",
    "    for e in g.edges(user):\n",
    "        user_weights.append(g.get_edge_data(*e)['weight'])\n",
    "    return np.mean(user_weights)\n",
    "\n",
    "def predict_rating_bipartite(user, item, g, proj_g):\n",
    "    u_avg_rating = get_user_avg_rating(user, g) # average rating given by user u\n",
    "    similarity_sum = 0\n",
    "    count = 0\n",
    "    pred = u_avg_rating\n",
    "    for e in proj_g.edges(user):\n",
    "        j = e[1]\n",
    "        if (j, item) in g.edges and g.get_edge_data(*(j, item))['weight'] != 0:\n",
    "            j_avg_rating = get_user_avg_rating(j, g) # average rating given by user j\n",
    "            similarity_sum += abs(proj_g.get_edge_data(*e)['weight'])\n",
    "            count += proj_g.get_edge_data(*e)['weight'] * (g.get_edge_data(*(j, item))['weight'] - j_avg_rating)\n",
    "    if similarity_sum:\n",
    "        pred += 1 / similarity_sum * count\n",
    "    return pred"
   ]
  },
  {
   "cell_type": "code",
   "execution_count": 16,
   "id": "2affcc87",
   "metadata": {},
   "outputs": [],
   "source": [
    "def my_weight(G, u, v, weight=\"weight\"):\n",
    "    w = 0\n",
    "    for nbr in set(G[u]) & set(G[v]):\n",
    "        w += G[u][nbr].get(weight, 1) + G[v][nbr].get(weight, 1)\n",
    "    return w\n",
    "\n",
    "def omp(score):\n",
    "    # train graph\n",
    "    train_g = nx.Graph()\n",
    "    train_g.add_nodes_from(train_df['reviewerID'].tolist(), bipartite=0)\n",
    "    train_g.add_nodes_from(train_df['asin'].tolist(), bipartite=1)\n",
    "    edges = list(zip(train_df['reviewerID'].tolist(), train_df['asin'].tolist(), train_df[score].tolist()))\n",
    "    train_g.add_weighted_edges_from(edges)\n",
    "\n",
    "    train_proj_user_g = bipartite.generic_weighted_projected_graph(\n",
    "        train_g, list(set(train_df['reviewerID'].tolist())), weight_function=my_weight\n",
    "    )\n",
    "#     print(train_proj_user_g.get_edge_data(*list(train_proj_user_g.edges)[0]))\n",
    "#     print(train_proj_user_g.number_of_nodes())\n",
    "\n",
    "    preds = []\n",
    "    for i in tqdm(range(len(test_df['user_id']))):\n",
    "        user = test_df['user_id'].tolist()[i]\n",
    "        item = test_df['item_id'].tolist()[i]\n",
    "        assert(train_df[(train_df['user_id'] == user) & (train_df['item_id'] == item)][score].tolist() == [0])\n",
    "        preds.append(predict_rating_bipartite(idx2user[user], idx2item[item], train_g, train_proj_user_g))\n",
    "    print(\"OMP with {} score\".format(score))\n",
    "    print(\"    rmse:\", sqrt(mean_squared_error(preds, test_df[score].tolist())))\n",
    "    print(\"    mae:\", mean_absolute_error(preds, test_df[score].tolist()))    "
   ]
  },
  {
   "cell_type": "code",
   "execution_count": 17,
   "id": "a1d491be",
   "metadata": {},
   "outputs": [
    {
     "name": "stderr",
     "output_type": "stream",
     "text": [
      "100%|████████████████████████████████████| 19756/19756 [00:38<00:00, 517.88it/s]"
     ]
    },
    {
     "name": "stdout",
     "output_type": "stream",
     "text": [
      "OMP with overall score\n",
      "    rmse: 0.2887155964432742\n",
      "    mae: 0.22577948775033482\n"
     ]
    },
    {
     "name": "stderr",
     "output_type": "stream",
     "text": [
      "\n"
     ]
    }
   ],
   "source": [
    "omp('overall')"
   ]
  },
  {
   "cell_type": "code",
   "execution_count": 18,
   "id": "d013f8c7",
   "metadata": {},
   "outputs": [
    {
     "name": "stderr",
     "output_type": "stream",
     "text": [
      "100%|████████████████████████████████████| 19756/19756 [00:36<00:00, 547.04it/s]"
     ]
    },
    {
     "name": "stdout",
     "output_type": "stream",
     "text": [
      "OMP with nltk score\n",
      "    rmse: 0.2753860677767139\n",
      "    mae: 0.21061472376297682\n"
     ]
    },
    {
     "name": "stderr",
     "output_type": "stream",
     "text": [
      "\n"
     ]
    }
   ],
   "source": [
    "omp('nltk')"
   ]
  },
  {
   "cell_type": "markdown",
   "id": "1a5eedd2",
   "metadata": {},
   "source": [
    "### Recommendation power"
   ]
  },
  {
   "cell_type": "code",
   "execution_count": 20,
   "id": "f335d897",
   "metadata": {},
   "outputs": [],
   "source": [
    "score = 'overall'\n",
    "def rp_weighted_projected_graph(B, nodes, weight):\n",
    "    G = nx.DiGraph()\n",
    "    G.graph.update(B.graph)\n",
    "    G.add_nodes_from((n, B.nodes[n]) for n in nodes)\n",
    "    for u in nodes:\n",
    "        r_u = 0\n",
    "        unbrs = set(B[u]) # items reviewed by u\n",
    "        nbrs2 = set()\n",
    "        for un in unbrs:\n",
    "            r_u += B[u][un].get(weight, 1)\n",
    "            for e in B.in_edges(un):\n",
    "                nbrs2.add(e[0])\n",
    "        nbrs2 = nbrs2 - set([u]) # set of users that reviewed the same items as u \n",
    "        for v in nbrs2:\n",
    "            vnbrs = set(B[v])\n",
    "            common = unbrs & vnbrs # items that are reviewed by both u and v\n",
    "            w = 0\n",
    "            for b in common:\n",
    "                r_b = 0\n",
    "                for e in B.in_edges(b):\n",
    "                    r_b += B[e[0]][e[1]].get(weight, 1)\n",
    "                if r_u:\n",
    "                    w += B[u][b].get(weight, 1)/r_u\n",
    "                if r_b:\n",
    "                    w *= B[v][b].get(weight, 1)/r_b\n",
    "            G.add_edge(u, v, weight=w)\n",
    "    return G\n",
    "\n",
    "train_g = nx.DiGraph()\n",
    "train_g.add_nodes_from(train_df['reviewerID'].tolist(), bipartite=0)\n",
    "train_g.add_nodes_from(train_df['asin'].tolist(), bipartite=1)\n",
    "edges = list(zip(train_df['reviewerID'].tolist(), train_df['asin'].tolist(), train_df[score].tolist()))\n",
    "train_g.add_weighted_edges_from(edges)\n",
    "\n",
    "train_proj_user_g = rp_weighted_projected_graph(train_g, list(set(train_df['reviewerID'].tolist())), 'weight')"
   ]
  },
  {
   "cell_type": "code",
   "execution_count": 21,
   "id": "510f10da",
   "metadata": {},
   "outputs": [
    {
     "name": "stdout",
     "output_type": "stream",
     "text": [
      "DiGraph with 4939 nodes and 2255108 edges\n"
     ]
    }
   ],
   "source": [
    "print(train_proj_user_g)"
   ]
  },
  {
   "cell_type": "markdown",
   "id": "d2e04fb4",
   "metadata": {},
   "source": [
    "Test function:"
   ]
  },
  {
   "cell_type": "code",
   "execution_count": 22,
   "id": "27afe62b",
   "metadata": {},
   "outputs": [
    {
     "name": "stdout",
     "output_type": "stream",
     "text": [
      "[0.01512280759455262, 0.010561027942869379]\n",
      "[0.01512280759455262, 0.010561027942869379]\n",
      "True\n"
     ]
    }
   ],
   "source": [
    "pairs = [('ANW6EGY12V5XS', 'AHT34BRYFBFT1'), ('A22KRTIWDLOA98', 'A1NH2K8N77S5RY')]\n",
    "def test(pairs):\n",
    "    rps = []\n",
    "    for (u, v) in pairs:\n",
    "        i1 = train_df[train_df['reviewerID'] == u].asin.tolist()\n",
    "        i2 = train_df[train_df['reviewerID'] == v].asin.tolist()\n",
    "        common = set(i1) & set(i2)\n",
    "        rp = 0\n",
    "        for b in common:\n",
    "            r_b = np.sum(train_df[train_df['asin'] == b].overall)\n",
    "            r_u = np.sum(train_df[train_df['reviewerID'] == u].overall)\n",
    "            r_ub = train_df[(train_df['reviewerID'] == u) & (train_df['asin'] == b)].overall.tolist()[0]\n",
    "            r_vb = train_df[(train_df['reviewerID'] == v) & (train_df['asin'] == b)].overall.tolist()[0]\n",
    "            if r_u:\n",
    "                rp += r_ub / r_u\n",
    "            if r_b:\n",
    "                rp *= r_vb / r_b\n",
    "        rps.append(rp)\n",
    "    return rps\n",
    "true_rps = test(pairs)\n",
    "print(true_rps)\n",
    "test_rps = []\n",
    "for p in pairs:\n",
    "    test_rps.append(train_proj_user_g.get_edge_data(*p).get('weight', 1))\n",
    "print(test_rps)\n",
    "print(true_rps == test_rps)"
   ]
  },
  {
   "cell_type": "code",
   "execution_count": 23,
   "id": "14fdf30b",
   "metadata": {},
   "outputs": [],
   "source": [
    "def rp(score):\n",
    "    # train graph\n",
    "    train_g = nx.DiGraph() # should be directed graph\n",
    "    train_g.add_nodes_from(train_df['reviewerID'].tolist(), bipartite=0)\n",
    "    train_g.add_nodes_from(train_df['asin'].tolist(), bipartite=1)\n",
    "    edges = list(zip(train_df['reviewerID'].tolist(), train_df['asin'].tolist(), train_df[score].tolist()))\n",
    "    train_g.add_weighted_edges_from(edges)\n",
    "\n",
    "    train_proj_user_g = rp_weighted_projected_graph(train_g, list(set(train_df['reviewerID'].tolist())), 'weight')\n",
    "#     print(train_proj_user_g.get_edge_data(*list(train_proj_user_g.edges)[0]))\n",
    "#     print(train_proj_user_g.number_of_nodes())\n",
    "\n",
    "    preds = []\n",
    "    for i in tqdm(range(len(test_df['user_id']))):\n",
    "        user = test_df['user_id'].tolist()[i]\n",
    "        item = test_df['item_id'].tolist()[i]\n",
    "        assert(train_df[(train_df['user_id'] == user) & (train_df['item_id'] == item)][score].tolist() == [0])\n",
    "        preds.append(predict_rating_bipartite(idx2user[user], idx2item[item], train_g, train_proj_user_g))\n",
    "    print(\"RP with {} score\".format(score))\n",
    "    print(\"    rmse:\", sqrt(mean_squared_error(preds, test_df[score].tolist())))\n",
    "    print(\"    mae:\", mean_absolute_error(preds, test_df[score].tolist()))    "
   ]
  },
  {
   "cell_type": "code",
   "execution_count": 24,
   "id": "0421259d",
   "metadata": {},
   "outputs": [
    {
     "name": "stderr",
     "output_type": "stream",
     "text": [
      "100%|████████████████████████████████████| 19756/19756 [00:36<00:00, 548.30it/s]"
     ]
    },
    {
     "name": "stdout",
     "output_type": "stream",
     "text": [
      "RP with overall score\n",
      "    rmse: 0.33385977139173995\n",
      "    mae: 0.2685106869811831\n"
     ]
    },
    {
     "name": "stderr",
     "output_type": "stream",
     "text": [
      "\n"
     ]
    }
   ],
   "source": [
    "rp('overall')"
   ]
  },
  {
   "cell_type": "code",
   "execution_count": 25,
   "id": "d228decc",
   "metadata": {},
   "outputs": [
    {
     "name": "stderr",
     "output_type": "stream",
     "text": [
      "100%|████████████████████████████████████| 19756/19756 [00:36<00:00, 542.05it/s]"
     ]
    },
    {
     "name": "stdout",
     "output_type": "stream",
     "text": [
      "RP with nltk score\n",
      "    rmse: 0.3359128621155487\n",
      "    mae: 0.26733887772204573\n"
     ]
    },
    {
     "name": "stderr",
     "output_type": "stream",
     "text": [
      "\n"
     ]
    }
   ],
   "source": [
    "rp('nltk')"
   ]
  },
  {
   "cell_type": "markdown",
   "id": "5d866173",
   "metadata": {},
   "source": [
    "### Cosine similarity & Pearson"
   ]
  },
  {
   "cell_type": "code",
   "execution_count": 26,
   "id": "e7a7b2c9",
   "metadata": {},
   "outputs": [],
   "source": [
    "def predict_rating_sim(user, item, sim_matrix, train_df):\n",
    "    mean_df = train_df.mean(axis=1)\n",
    "    u_avg_rating = mean_df[user]\n",
    "    pred = u_avg_rating\n",
    "    similarity_sum = 0\n",
    "    count = 0\n",
    "    for j in range(len(train_df)):\n",
    "        if j != user and train_df[j][item] != 0:\n",
    "            similarity_sum += abs(sim_matrix[j][user])\n",
    "            count += sim_matrix[j][user] * (train_df[j][item] - mean_df[j])\n",
    "    if similarity_sum:\n",
    "        pred += 1 / similarity_sum * count\n",
    "    return pred\n",
    "\n",
    "def similarity(score):\n",
    "    train_data_matrix = np.zeros((n_users, n_items))\n",
    "    for row in train_df.itertuples():\n",
    "        if score == 'overall':\n",
    "            train_data_matrix[row.user_id, row.item_id] = row.overall\n",
    "        if score == 'nltk':\n",
    "            train_data_matrix[row.user_id, row.item_id] = row.nltk\n",
    "\n",
    "    # cosine similarity\n",
    "    sim_matrix = pairwise_distances(train_data_matrix, metric='cosine')\n",
    "    # print(sim_matrix.shape)\n",
    "    preds = []\n",
    "    for i in tqdm(range(len(test_df['user_id']))):\n",
    "        user = test_df['user_id'].tolist()[i]\n",
    "        item = test_df['item_id'].tolist()[i]\n",
    "        assert(train_df[(train_df['user_id'] == user) & (train_df['item_id'] == item)][score].tolist() == [0])\n",
    "        preds.append(predict_rating_sim(user, item, sim_matrix, train_data_matrix))\n",
    "    print(\"Cosine with {} score\".format(score))\n",
    "    print(\"    rmse:\", sqrt(mean_squared_error(preds, test_df[score].tolist())))\n",
    "    print(\"    mae:\", mean_absolute_error(preds, test_df[score].tolist()))\n",
    "    \n",
    "    # pearson\n",
    "    pearson_matrix = np.corrcoef(train_data_matrix)\n",
    "    # print(pearson_matrix.shape)\n",
    "    preds = []\n",
    "    for i in tqdm(range(len(test_df['user_id']))):\n",
    "        user = test_df['user_id'].tolist()[i]\n",
    "        item = test_df['item_id'].tolist()[i]\n",
    "        assert(train_df[(train_df['user_id'] == user) & (train_df['item_id'] == item)][score].tolist() == [0])\n",
    "        preds.append(predict_rating_sim(user, item, pearson_matrix, train_data_matrix))\n",
    "    print(\"Pearson with {} score\".format(score))\n",
    "    print(\"    rmse:\", sqrt(mean_squared_error(preds, test_df[score].tolist())))\n",
    "    print(\"    mae:\", mean_absolute_error(preds, test_df[score].tolist()))"
   ]
  },
  {
   "cell_type": "code",
   "execution_count": 27,
   "id": "b3b7d2e8",
   "metadata": {},
   "outputs": [
    {
     "name": "stderr",
     "output_type": "stream",
     "text": [
      "100%|█████████████████████████████████████| 19756/19756 [04:50<00:00, 67.94it/s]\n"
     ]
    },
    {
     "name": "stdout",
     "output_type": "stream",
     "text": [
      "Cosine with overall score\n",
      "    rmse: 0.31522413345912836\n",
      "    mae: 0.23679130440405566\n"
     ]
    },
    {
     "name": "stderr",
     "output_type": "stream",
     "text": [
      "100%|█████████████████████████████████████| 19756/19756 [04:49<00:00, 68.35it/s]"
     ]
    },
    {
     "name": "stdout",
     "output_type": "stream",
     "text": [
      "Pearson with overall score\n",
      "    rmse: 0.771526795286055\n",
      "    mae: 0.5360920458900261\n"
     ]
    },
    {
     "name": "stderr",
     "output_type": "stream",
     "text": [
      "\n"
     ]
    }
   ],
   "source": [
    "similarity('overall')"
   ]
  },
  {
   "cell_type": "code",
   "execution_count": 28,
   "id": "a23fa453",
   "metadata": {},
   "outputs": [
    {
     "name": "stderr",
     "output_type": "stream",
     "text": [
      "100%|█████████████████████████████████████| 19756/19756 [04:49<00:00, 68.32it/s]\n"
     ]
    },
    {
     "name": "stdout",
     "output_type": "stream",
     "text": [
      "Cosine with nltk score\n",
      "    rmse: 0.28877558833642825\n",
      "    mae: 0.1931522123931581\n"
     ]
    },
    {
     "name": "stderr",
     "output_type": "stream",
     "text": [
      "100%|█████████████████████████████████████| 19756/19756 [04:52<00:00, 67.60it/s]"
     ]
    },
    {
     "name": "stdout",
     "output_type": "stream",
     "text": [
      "Pearson with nltk score\n",
      "    rmse: 0.8190660842382917\n",
      "    mae: 0.5548605612740287\n"
     ]
    },
    {
     "name": "stderr",
     "output_type": "stream",
     "text": [
      "\n"
     ]
    }
   ],
   "source": [
    "similarity('nltk')"
   ]
  },
  {
   "cell_type": "markdown",
   "id": "2dd03bfd",
   "metadata": {},
   "source": [
    "## 3. Clustered weighted bipartite projection"
   ]
  },
  {
   "cell_type": "markdown",
   "id": "262d748d",
   "metadata": {},
   "source": [
    "### Cluster on user side"
   ]
  },
  {
   "cell_type": "code",
   "execution_count": 34,
   "id": "3ae943df",
   "metadata": {},
   "outputs": [],
   "source": [
    "def user_cluster(score):\n",
    "    train_g = nx.Graph()\n",
    "    train_g.add_nodes_from(train_df['reviewerID'].tolist(), bipartite=0)\n",
    "    train_g.add_nodes_from(train_df['asin'].tolist(), bipartite=1)\n",
    "    edges = list(zip(train_df['reviewerID'].tolist(), train_df['asin'].tolist(), train_df[score].tolist()))\n",
    "    train_g.add_weighted_edges_from(edges)\n",
    "    \n",
    "    train_proj_g = bipartite.generic_weighted_projected_graph(\n",
    "            train_g, list(set(train_df['reviewerID'].tolist())), weight_function=my_weight\n",
    "        )\n",
    "    train_sim = nx.to_numpy_array(train_proj_g, weight='weight')\n",
    "    print(train_sim.shape)\n",
    "\n",
    "    tran_train_df = train_df.copy()\n",
    "    tran_test_df = test_df.copy()\n",
    "    rmse = []\n",
    "    mae = []\n",
    "    for k in range(50, 900, 100):\n",
    "        print(\"=\"*25 + str(k) + \"=\"*25)\n",
    "        sc = SpectralClustering(k, affinity='precomputed', n_init=100, random_state=seed)\n",
    "        sc.fit(train_sim)\n",
    "        idx2labels = {}\n",
    "        for idx, l in enumerate(sc.labels_):\n",
    "            idx2labels[idx] = str(l)\n",
    "        tran_train_df['user_clustering_labels'] = tran_train_df['user_id'].map(idx2labels)\n",
    "        tran_test_df['user_clustering_labels'] = tran_test_df['user_id'].map(idx2labels)\n",
    "\n",
    "        train_cluster_g = nx.Graph()\n",
    "        train_cluster_g.add_nodes_from(tran_train_df['user_clustering_labels'].tolist(), bipartite=0)\n",
    "        train_cluster_g.add_nodes_from(tran_train_df['asin'].tolist(), bipartite=1)\n",
    "        edges = list(zip(tran_train_df['user_clustering_labels'].tolist(), tran_train_df['asin'].tolist(), \\\n",
    "                         tran_train_df[score].tolist()))\n",
    "        train_cluster_g.add_weighted_edges_from(edges)\n",
    "        train_cluster_proj_g = bipartite.generic_weighted_projected_graph(\n",
    "            train_cluster_g, list(set(tran_train_df['user_clustering_labels'].tolist())), weight_function=my_weight\n",
    "        )\n",
    "\n",
    "        preds = []\n",
    "        for i in tqdm(range(len(tran_test_df['user_clustering_labels']))):\n",
    "            user = tran_test_df['user_clustering_labels'].tolist()[i]\n",
    "            item = tran_test_df['item_id'].tolist()[i]\n",
    "            preds.append(predict_rating_bipartite(user, idx2item[item], train_cluster_g, train_cluster_proj_g))\n",
    "        rmse.append(sqrt(mean_squared_error(preds, test_df[score].tolist())))\n",
    "        mae.append(mean_absolute_error(preds, test_df[score].tolist()))\n",
    "    return rmse, mae"
   ]
  },
  {
   "cell_type": "code",
   "execution_count": 35,
   "id": "410e8b59",
   "metadata": {},
   "outputs": [
    {
     "name": "stdout",
     "output_type": "stream",
     "text": [
      "(4939, 4939)\n",
      "=========================50=========================\n"
     ]
    },
    {
     "name": "stderr",
     "output_type": "stream",
     "text": [
      "100%|████████████████████████████████████| 19756/19756 [02:27<00:00, 134.03it/s]\n"
     ]
    },
    {
     "name": "stdout",
     "output_type": "stream",
     "text": [
      "=========================150=========================\n"
     ]
    },
    {
     "name": "stderr",
     "output_type": "stream",
     "text": [
      "100%|████████████████████████████████████| 19756/19756 [02:22<00:00, 138.47it/s]\n"
     ]
    },
    {
     "name": "stdout",
     "output_type": "stream",
     "text": [
      "=========================250=========================\n"
     ]
    },
    {
     "name": "stderr",
     "output_type": "stream",
     "text": [
      "100%|████████████████████████████████████| 19756/19756 [01:53<00:00, 173.50it/s]\n"
     ]
    },
    {
     "name": "stdout",
     "output_type": "stream",
     "text": [
      "=========================350=========================\n"
     ]
    },
    {
     "name": "stderr",
     "output_type": "stream",
     "text": [
      "100%|████████████████████████████████████| 19756/19756 [02:04<00:00, 159.05it/s]\n"
     ]
    },
    {
     "name": "stdout",
     "output_type": "stream",
     "text": [
      "=========================450=========================\n"
     ]
    },
    {
     "name": "stderr",
     "output_type": "stream",
     "text": [
      "100%|████████████████████████████████████| 19756/19756 [02:02<00:00, 161.17it/s]\n"
     ]
    },
    {
     "name": "stdout",
     "output_type": "stream",
     "text": [
      "=========================550=========================\n"
     ]
    },
    {
     "name": "stderr",
     "output_type": "stream",
     "text": [
      "100%|████████████████████████████████████| 19756/19756 [02:05<00:00, 158.01it/s]\n"
     ]
    },
    {
     "name": "stdout",
     "output_type": "stream",
     "text": [
      "=========================650=========================\n"
     ]
    },
    {
     "name": "stderr",
     "output_type": "stream",
     "text": [
      "100%|████████████████████████████████████| 19756/19756 [02:00<00:00, 164.17it/s]\n"
     ]
    },
    {
     "name": "stdout",
     "output_type": "stream",
     "text": [
      "=========================750=========================\n"
     ]
    },
    {
     "name": "stderr",
     "output_type": "stream",
     "text": [
      "100%|████████████████████████████████████| 19756/19756 [01:47<00:00, 183.54it/s]\n"
     ]
    },
    {
     "name": "stdout",
     "output_type": "stream",
     "text": [
      "=========================850=========================\n"
     ]
    },
    {
     "name": "stderr",
     "output_type": "stream",
     "text": [
      "100%|████████████████████████████████████| 19756/19756 [01:46<00:00, 185.46it/s]\n"
     ]
    }
   ],
   "source": [
    "rmse_user_overall, mae_user_overall = user_cluster('overall')"
   ]
  },
  {
   "cell_type": "code",
   "execution_count": 36,
   "id": "e46f033b",
   "metadata": {},
   "outputs": [
    {
     "data": {
      "text/plain": [
       "[0.3321779914756571,\n",
       " 0.3187779258024614,\n",
       " 0.3527021797463017,\n",
       " 0.33484701936981576,\n",
       " 0.35053326331004103,\n",
       " 0.3535648857010521,\n",
       " 0.37026410650504255,\n",
       " 0.38993134656877376,\n",
       " 0.4050283194125165]"
      ]
     },
     "execution_count": 36,
     "metadata": {},
     "output_type": "execute_result"
    }
   ],
   "source": [
    "rmse_user_overall"
   ]
  },
  {
   "cell_type": "code",
   "execution_count": 37,
   "id": "d53c26d8",
   "metadata": {},
   "outputs": [
    {
     "name": "stdout",
     "output_type": "stream",
     "text": [
      "(4939, 4939)\n",
      "=========================50=========================\n"
     ]
    },
    {
     "name": "stderr",
     "output_type": "stream",
     "text": [
      "100%|████████████████████████████████████| 19756/19756 [02:35<00:00, 126.89it/s]\n"
     ]
    },
    {
     "name": "stdout",
     "output_type": "stream",
     "text": [
      "=========================150=========================\n"
     ]
    },
    {
     "name": "stderr",
     "output_type": "stream",
     "text": [
      "100%|████████████████████████████████████| 19756/19756 [02:16<00:00, 144.81it/s]\n"
     ]
    },
    {
     "name": "stdout",
     "output_type": "stream",
     "text": [
      "=========================250=========================\n"
     ]
    },
    {
     "name": "stderr",
     "output_type": "stream",
     "text": [
      "100%|████████████████████████████████████| 19756/19756 [02:05<00:00, 157.27it/s]\n"
     ]
    },
    {
     "name": "stdout",
     "output_type": "stream",
     "text": [
      "=========================350=========================\n"
     ]
    },
    {
     "name": "stderr",
     "output_type": "stream",
     "text": [
      "100%|████████████████████████████████████| 19756/19756 [02:13<00:00, 148.49it/s]\n"
     ]
    },
    {
     "name": "stdout",
     "output_type": "stream",
     "text": [
      "=========================450=========================\n"
     ]
    },
    {
     "name": "stderr",
     "output_type": "stream",
     "text": [
      "100%|████████████████████████████████████| 19756/19756 [01:53<00:00, 174.56it/s]\n"
     ]
    },
    {
     "name": "stdout",
     "output_type": "stream",
     "text": [
      "=========================550=========================\n"
     ]
    },
    {
     "name": "stderr",
     "output_type": "stream",
     "text": [
      "100%|████████████████████████████████████| 19756/19756 [01:50<00:00, 179.06it/s]\n"
     ]
    },
    {
     "name": "stdout",
     "output_type": "stream",
     "text": [
      "=========================650=========================\n"
     ]
    },
    {
     "name": "stderr",
     "output_type": "stream",
     "text": [
      "100%|████████████████████████████████████| 19756/19756 [01:53<00:00, 173.95it/s]\n"
     ]
    },
    {
     "name": "stdout",
     "output_type": "stream",
     "text": [
      "=========================750=========================\n"
     ]
    },
    {
     "name": "stderr",
     "output_type": "stream",
     "text": [
      "100%|████████████████████████████████████| 19756/19756 [01:41<00:00, 195.45it/s]\n"
     ]
    },
    {
     "name": "stdout",
     "output_type": "stream",
     "text": [
      "=========================850=========================\n"
     ]
    },
    {
     "name": "stderr",
     "output_type": "stream",
     "text": [
      "100%|████████████████████████████████████| 19756/19756 [02:12<00:00, 149.15it/s]\n"
     ]
    }
   ],
   "source": [
    "rmse_user_nltk, mae_user_nltk = user_cluster('nltk')"
   ]
  },
  {
   "cell_type": "code",
   "execution_count": 38,
   "id": "25691346",
   "metadata": {},
   "outputs": [
    {
     "data": {
      "text/plain": [
       "[0.297981965497826,\n",
       " 0.2869112115686484,\n",
       " 0.30885014566606567,\n",
       " 0.31194539686754763,\n",
       " 0.33826560100929165,\n",
       " 0.35599170480431697,\n",
       " 0.345917072287147,\n",
       " 0.3715986086005995,\n",
       " 0.32551076390354156]"
      ]
     },
     "execution_count": 38,
     "metadata": {},
     "output_type": "execute_result"
    }
   ],
   "source": [
    "rmse_user_nltk"
   ]
  },
  {
   "cell_type": "markdown",
   "id": "307d7eeb",
   "metadata": {},
   "source": [
    "### Cluster on item side"
   ]
  },
  {
   "cell_type": "code",
   "execution_count": 39,
   "id": "0b0bee4c",
   "metadata": {},
   "outputs": [],
   "source": [
    "def item_cluster(score):\n",
    "    train_g = nx.Graph()\n",
    "    train_g.add_nodes_from(train_df['reviewerID'].tolist(), bipartite=0)\n",
    "    train_g.add_nodes_from(train_df['asin'].tolist(), bipartite=1)\n",
    "    edges = list(zip(train_df['reviewerID'].tolist(), train_df['asin'].tolist(), train_df[score].tolist()))\n",
    "    train_g.add_weighted_edges_from(edges)\n",
    "    \n",
    "    train_proj_g = bipartite.generic_weighted_projected_graph(\n",
    "            train_g, list(set(train_df['asin'].tolist())), weight_function=my_weight\n",
    "        )\n",
    "    train_sim = nx.to_numpy_array(train_proj_g, weight='weight')\n",
    "    print(train_sim.shape)\n",
    "\n",
    "    tran_train_df = train_df.copy()\n",
    "    tran_test_df = test_df.copy()\n",
    "    rmse = []\n",
    "    mae = []\n",
    "    for k in range(50, 900, 100):\n",
    "        print(\"=\"*25 + str(k) + \"=\"*25)\n",
    "        sc = SpectralClustering(k, affinity='precomputed', n_init=100, random_state=seed)\n",
    "        sc.fit(train_sim)\n",
    "        idx2labels = {}\n",
    "        for idx, l in enumerate(sc.labels_):\n",
    "            idx2labels[idx] = str(l)\n",
    "        tran_train_df['item_clustering_labels'] = tran_train_df['item_id'].map(idx2labels)\n",
    "        tran_test_df['item_clustering_labels'] = tran_test_df['item_id'].map(idx2labels)\n",
    "\n",
    "        train_cluster_g = nx.Graph()\n",
    "        train_cluster_g.add_nodes_from(tran_train_df['reviewerID'].tolist(), bipartite=0)\n",
    "        train_cluster_g.add_nodes_from(tran_train_df['item_clustering_labels'].tolist(), bipartite=1)\n",
    "        edges = list(zip(tran_train_df['reviewerID'].tolist(), tran_train_df['item_clustering_labels'].tolist(), \\\n",
    "                         tran_train_df[score].tolist()))\n",
    "        train_cluster_g.add_weighted_edges_from(edges)\n",
    "        train_cluster_proj_g = bipartite.generic_weighted_projected_graph(\n",
    "            train_cluster_g, list(set(tran_train_df['item_clustering_labels'].tolist())), weight_function=my_weight\n",
    "        )\n",
    "\n",
    "        preds = []\n",
    "        for i in tqdm(range(len(tran_test_df['item_clustering_labels']))):\n",
    "            user = tran_test_df['user_id'].tolist()[i]\n",
    "            item = tran_test_df['item_clustering_labels'].tolist()[i]\n",
    "            preds.append(predict_rating_bipartite(idx2user[user], item, train_cluster_g, train_cluster_proj_g))\n",
    "        rmse.append(sqrt(mean_squared_error(preds, test_df[score].tolist())))\n",
    "        mae.append(mean_absolute_error(preds, test_df[score].tolist()))\n",
    "    return rmse, mae"
   ]
  },
  {
   "cell_type": "code",
   "execution_count": 40,
   "id": "dc05a901",
   "metadata": {},
   "outputs": [
    {
     "name": "stdout",
     "output_type": "stream",
     "text": [
      "(9899, 9899)\n",
      "=========================50=========================\n"
     ]
    },
    {
     "name": "stderr",
     "output_type": "stream",
     "text": [
      "100%|███████████████████████████████████| 19756/19756 [00:08<00:00, 2418.58it/s]\n"
     ]
    },
    {
     "name": "stdout",
     "output_type": "stream",
     "text": [
      "=========================150=========================\n"
     ]
    },
    {
     "name": "stderr",
     "output_type": "stream",
     "text": [
      "100%|███████████████████████████████████| 19756/19756 [00:09<00:00, 2034.35it/s]\n"
     ]
    },
    {
     "name": "stdout",
     "output_type": "stream",
     "text": [
      "=========================250=========================\n"
     ]
    },
    {
     "name": "stderr",
     "output_type": "stream",
     "text": [
      "100%|███████████████████████████████████| 19756/19756 [00:11<00:00, 1766.39it/s]\n"
     ]
    },
    {
     "name": "stdout",
     "output_type": "stream",
     "text": [
      "=========================350=========================\n"
     ]
    },
    {
     "name": "stderr",
     "output_type": "stream",
     "text": [
      "100%|███████████████████████████████████| 19756/19756 [00:11<00:00, 1726.55it/s]\n"
     ]
    },
    {
     "name": "stdout",
     "output_type": "stream",
     "text": [
      "=========================450=========================\n"
     ]
    },
    {
     "name": "stderr",
     "output_type": "stream",
     "text": [
      "100%|███████████████████████████████████| 19756/19756 [00:14<00:00, 1384.62it/s]\n"
     ]
    },
    {
     "name": "stdout",
     "output_type": "stream",
     "text": [
      "=========================550=========================\n"
     ]
    },
    {
     "name": "stderr",
     "output_type": "stream",
     "text": [
      "100%|███████████████████████████████████| 19756/19756 [00:13<00:00, 1502.56it/s]\n"
     ]
    },
    {
     "name": "stdout",
     "output_type": "stream",
     "text": [
      "=========================650=========================\n"
     ]
    },
    {
     "name": "stderr",
     "output_type": "stream",
     "text": [
      "100%|███████████████████████████████████| 19756/19756 [00:14<00:00, 1383.17it/s]\n"
     ]
    },
    {
     "name": "stdout",
     "output_type": "stream",
     "text": [
      "=========================750=========================\n"
     ]
    },
    {
     "name": "stderr",
     "output_type": "stream",
     "text": [
      "100%|███████████████████████████████████| 19756/19756 [00:14<00:00, 1331.84it/s]\n"
     ]
    },
    {
     "name": "stdout",
     "output_type": "stream",
     "text": [
      "=========================850=========================\n"
     ]
    },
    {
     "name": "stderr",
     "output_type": "stream",
     "text": [
      "100%|███████████████████████████████████| 19756/19756 [00:12<00:00, 1531.72it/s]\n"
     ]
    }
   ],
   "source": [
    "rmse_item_overall, mae_item_overall = item_cluster('overall')"
   ]
  },
  {
   "cell_type": "code",
   "execution_count": 41,
   "id": "dc96dfe0",
   "metadata": {},
   "outputs": [
    {
     "data": {
      "text/plain": [
       "[0.4886168803298372,\n",
       " 0.4657954940322945,\n",
       " 0.4643925744963401,\n",
       " 0.44949454135959055,\n",
       " 0.45133666110070136,\n",
       " 0.4617512885495678,\n",
       " 0.4527374296661184,\n",
       " 0.4429070328246449,\n",
       " 0.4384775191584321]"
      ]
     },
     "execution_count": 41,
     "metadata": {},
     "output_type": "execute_result"
    }
   ],
   "source": [
    "rmse_item_overall"
   ]
  },
  {
   "cell_type": "code",
   "execution_count": 43,
   "id": "ece5f3a3",
   "metadata": {},
   "outputs": [
    {
     "name": "stdout",
     "output_type": "stream",
     "text": [
      "(9899, 9899)\n",
      "=========================50=========================\n"
     ]
    },
    {
     "name": "stderr",
     "output_type": "stream",
     "text": [
      "100%|███████████████████████████████████| 19756/19756 [00:08<00:00, 2422.75it/s]\n"
     ]
    },
    {
     "name": "stdout",
     "output_type": "stream",
     "text": [
      "=========================150=========================\n"
     ]
    },
    {
     "name": "stderr",
     "output_type": "stream",
     "text": [
      "100%|███████████████████████████████████| 19756/19756 [00:10<00:00, 1949.18it/s]\n"
     ]
    },
    {
     "name": "stdout",
     "output_type": "stream",
     "text": [
      "=========================250=========================\n"
     ]
    },
    {
     "name": "stderr",
     "output_type": "stream",
     "text": [
      "100%|███████████████████████████████████| 19756/19756 [00:11<00:00, 1760.99it/s]\n"
     ]
    },
    {
     "name": "stdout",
     "output_type": "stream",
     "text": [
      "=========================350=========================\n"
     ]
    },
    {
     "name": "stderr",
     "output_type": "stream",
     "text": [
      "100%|███████████████████████████████████| 19756/19756 [00:11<00:00, 1668.90it/s]\n"
     ]
    },
    {
     "name": "stdout",
     "output_type": "stream",
     "text": [
      "=========================450=========================\n"
     ]
    },
    {
     "name": "stderr",
     "output_type": "stream",
     "text": [
      "100%|███████████████████████████████████| 19756/19756 [00:11<00:00, 1786.70it/s]\n"
     ]
    },
    {
     "name": "stdout",
     "output_type": "stream",
     "text": [
      "=========================550=========================\n"
     ]
    },
    {
     "name": "stderr",
     "output_type": "stream",
     "text": [
      "100%|███████████████████████████████████| 19756/19756 [00:13<00:00, 1441.26it/s]\n"
     ]
    },
    {
     "name": "stdout",
     "output_type": "stream",
     "text": [
      "=========================650=========================\n"
     ]
    },
    {
     "name": "stderr",
     "output_type": "stream",
     "text": [
      "100%|███████████████████████████████████| 19756/19756 [00:13<00:00, 1486.23it/s]\n"
     ]
    },
    {
     "name": "stdout",
     "output_type": "stream",
     "text": [
      "=========================750=========================\n"
     ]
    },
    {
     "name": "stderr",
     "output_type": "stream",
     "text": [
      "100%|███████████████████████████████████| 19756/19756 [00:13<00:00, 1430.11it/s]\n"
     ]
    },
    {
     "name": "stdout",
     "output_type": "stream",
     "text": [
      "=========================850=========================\n"
     ]
    },
    {
     "name": "stderr",
     "output_type": "stream",
     "text": [
      "100%|███████████████████████████████████| 19756/19756 [00:16<00:00, 1200.44it/s]\n"
     ]
    }
   ],
   "source": [
    "rmse_item_nltk, mae_item_nltk = item_cluster('nltk')"
   ]
  },
  {
   "cell_type": "code",
   "execution_count": 44,
   "id": "a6e026f8",
   "metadata": {},
   "outputs": [
    {
     "data": {
      "text/plain": [
       "[0.5055782011822051,\n",
       " 0.4714811966703853,\n",
       " 0.4734844595886776,\n",
       " 0.45717799249600266,\n",
       " 0.4618551381798642,\n",
       " 0.44501880335009714,\n",
       " 0.45133328532435296,\n",
       " 0.45392105090282664,\n",
       " 0.45294173450817465]"
      ]
     },
     "execution_count": 44,
     "metadata": {},
     "output_type": "execute_result"
    }
   ],
   "source": [
    "rmse_item_nltk"
   ]
  },
  {
   "cell_type": "code",
   "execution_count": 47,
   "id": "b9b0762b",
   "metadata": {},
   "outputs": [
    {
     "data": {
      "text/plain": [
       "<matplotlib.legend.Legend at 0x2f7803310>"
      ]
     },
     "execution_count": 47,
     "metadata": {},
     "output_type": "execute_result"
    },
    {
     "data": {
      "image/png": "[encoded data removed]",
      "text/plain": [
       "<Figure size 504x432 with 1 Axes>"
      ]
     },
     "metadata": {
      "needs_background": "light"
     },
     "output_type": "display_data"
    }
   ],
   "source": [
    "k = range(50, 900, 100)\n",
    "plt.figure(figsize=(7, 6))\n",
    "plt.plot(k, rmse_user_overall, marker = '+', label='k1 using rating')\n",
    "plt.plot(k, rmse_user_nltk, marker = '+', label='k1 using nltk sentiment score')\n",
    "plt.plot(k, rmse_item_overall, marker = '+', label='k2 using rating')\n",
    "plt.plot(k, rmse_item_nltk, marker = '+', label='k2 using nltk sentiment score')\n",
    "plt.plot(k, [0.2753] * len(k), '--', label='best score without clustering')\n",
    "plt.xlabel('Number of clusters created (k1 for users - k2 for items)', fontsize=12)\n",
    "plt.ylabel('RMSE', fontsize=12)\n",
    "plt.legend()"
   ]
  },
  {
   "cell_type": "code",
   "execution_count": 48,
   "id": "49d3b22a",
   "metadata": {},
   "outputs": [
    {
     "data": {
      "text/plain": [
       "<matplotlib.legend.Legend at 0x2f6a7b430>"
      ]
     },
     "execution_count": 48,
     "metadata": {},
     "output_type": "execute_result"
    },
    {
     "data": {
      "image/png": "[encoded data removed]",
      "text/plain": [
       "<Figure size 504x432 with 1 Axes>"
      ]
     },
     "metadata": {
      "needs_background": "light"
     },
     "output_type": "display_data"
    }
   ],
   "source": [
    "k = range(50, 900, 100)\n",
    "plt.figure(figsize=(7, 6))\n",
    "plt.plot(k, mae_user_overall, marker = '+', label='k1 using rating')\n",
    "plt.plot(k, mae_user_nltk, marker = '+', label='k1 using nltk sentiment score')\n",
    "plt.plot(k, mae_item_overall, marker = '+', label='k2 using rating')\n",
    "plt.plot(k, mae_item_nltk, marker = '+', label='k2 using nltk sentiment score')\n",
    "plt.plot(k, [0.1932] * len(k), '--', label='best score without clustering')\n",
    "plt.xlabel('Number of clusters created (k1 for users - k2 for items)', fontsize=12)\n",
    "plt.ylabel('MAE', fontsize=12)\n",
    "plt.legend()"
   ]
  },
  {
   "cell_type": "code",
   "execution_count": null,
   "id": "caeaaa98",
   "metadata": {},
   "outputs": [],
   "source": []
  }
 ],
 "metadata": {
  "kernelspec": {
   "display_name": "Python 3 (ipykernel)",
   "language": "python",
   "name": "python3"
  },
  "language_info": {
   "codemirror_mode": {
    "name": "ipython",
    "version": 3
   },
   "file_extension": ".py",
   "mimetype": "text/x-python",
   "name": "python",
   "nbconvert_exporter": "python",
   "pygments_lexer": "ipython3",
   "version": "3.10.6"
  }
 },
 "nbformat": 4,
 "nbformat_minor": 5
}
